{
 "cells": [
  {
   "cell_type": "code",
   "execution_count": null,
   "metadata": {
    "executionInfo": {
     "elapsed": 423,
     "status": "ok",
     "timestamp": 1687256177498,
     "user": {
      "displayName": "Amaia Pikatza Huerga",
      "userId": "01223455995351985189"
     },
     "user_tz": -120
    },
    "id": "eubWFvbCkwO-"
   },
   "outputs": [],
   "source": [
    "import pandas as pd\n",
    "import numpy as np\n",
    "import joblib"
   ]
  },
  {
   "cell_type": "code",
   "execution_count": null,
   "metadata": {
    "executionInfo": {
     "elapsed": 7,
     "status": "ok",
     "timestamp": 1687256196491,
     "user": {
      "displayName": "Amaia Pikatza Huerga",
      "userId": "01223455995351985189"
     },
     "user_tz": -120
    },
    "id": "WsefuCo18Q3b"
   },
   "outputs": [],
   "source": [
    "train_path='data/trainNC.csv'\n",
    "test_path='data/testNC.csv'"
   ]
  },
  {
   "cell_type": "markdown",
   "metadata": {
    "id": "1C8sGOfqyYD-"
   },
   "source": [
    "# Obtener dataset"
   ]
  },
  {
   "cell_type": "code",
   "execution_count": null,
   "metadata": {
    "id": "3o3hbcs5lGTQ"
   },
   "outputs": [],
   "source": [
    "df_gen = pd.read_csv('data/TCA_general.csv')\n",
    "df_T1 = pd.read_csv('data/TCA_T1.csv')\n",
    "df_T2 = pd.read_csv('data/TCA_T2.csv')"
   ]
  },
  {
   "cell_type": "code",
   "execution_count": null,
   "metadata": {
    "colab": {
     "base_uri": "https://localhost:8080/"
    },
    "executionInfo": {
     "elapsed": 31,
     "status": "ok",
     "timestamp": 1685098248814,
     "user": {
      "displayName": "Amaia Pikatza Huerga",
      "userId": "01223455995351985189"
     },
     "user_tz": -120
    },
    "id": "QjWDk975l8dE",
    "outputId": "553f8554-dfb9-4c18-97d7-8287d3b3edd3"
   },
   "outputs": [],
   "source": [
    "y = df_T2['NIVELRECUPERACION_T2']\n",
    "y"
   ]
  },
  {
   "cell_type": "code",
   "execution_count": null,
   "metadata": {
    "id": "qyorlJMaqTkJ"
   },
   "outputs": [],
   "source": [
    "df = df_T1"
   ]
  },
  {
   "cell_type": "code",
   "execution_count": null,
   "metadata": {
    "id": "OJ84qXkAqoQZ"
   },
   "outputs": [],
   "source": [
    "df = df.drop(['ID', 'FECHA', 'EDAD', 'DIAGNOSTICO', 'OTROSDIAG', 'FECHAALTA', 'NINGUNOTRODIAG', 'ANSIEDAD', 'DEPRESIÓN', 'TPERSO', 'TBIPOLAR', 'TPSICOTICO', 'OtrosdiagnósticosademásdelTCA_B', 'MEDICACION1', 'MEDICACION2', 'MEDICACION3'], axis=1)\n",
    "import re\n",
    "\n",
    "regex = re.compile(r'SEIQOLCUE')\n",
    "df = df.drop(list(filter(regex.search, df.columns)), axis=1)\n",
    "\n",
    "regex = re.compile(r'SEIRANK')\n",
    "df = df.drop(list(filter(regex.search, df.columns)), axis=1)\n",
    "\n",
    "regex = re.compile(r'RESI2coment')\n",
    "df = df.drop(list(filter(regex.search, df.columns)), axis=1)"
   ]
  },
  {
   "cell_type": "code",
   "execution_count": null,
   "metadata": {
    "id": "I1eUgFfTvSTj"
   },
   "outputs": [],
   "source": [
    "df['NR_T2'] = y"
   ]
  },
  {
   "cell_type": "code",
   "execution_count": null,
   "metadata": {
    "id": "lJQUdOlQ8BA8"
   },
   "outputs": [],
   "source": [
    "for column in df.columns:\n",
    "    df[column] = df[column].replace(' ', '', regex=True).replace('', np.nan).astype(float)"
   ]
  },
  {
   "cell_type": "code",
   "execution_count": null,
   "metadata": {
    "id": "Jf2mOtwxaOp-"
   },
   "outputs": [],
   "source": [
    "df.dropna(subset=['NR_T2'], inplace=True)\n",
    "df.reset_index(drop=True, inplace=True)"
   ]
  },
  {
   "cell_type": "code",
   "execution_count": null,
   "metadata": {
    "id": "-c--aBve0clF"
   },
   "outputs": [],
   "source": [
    "for column in df_gen.columns:\n",
    "    df_gen[column] = df_gen[column].replace(' ', '', regex=True).replace('', np.nan)"
   ]
  },
  {
   "cell_type": "code",
   "execution_count": null,
   "metadata": {
    "colab": {
     "base_uri": "https://localhost:8080/"
    },
    "executionInfo": {
     "elapsed": 26,
     "status": "ok",
     "timestamp": 1685098248817,
     "user": {
      "displayName": "Amaia Pikatza Huerga",
      "userId": "01223455995351985189"
     },
     "user_tz": -120
    },
    "id": "wo22TyTJ1znP",
    "outputId": "68e73e5e-9d40-4f89-80e5-5835cd38b274"
   },
   "outputs": [],
   "source": [
    "df_gen[['AÑOSPADECIENDO','AÑOSTTO','EDADCOMIENZO']].info()"
   ]
  },
  {
   "cell_type": "code",
   "execution_count": null,
   "metadata": {
    "colab": {
     "base_uri": "https://localhost:8080/"
    },
    "executionInfo": {
     "elapsed": 24,
     "status": "ok",
     "timestamp": 1685098248817,
     "user": {
      "displayName": "Amaia Pikatza Huerga",
      "userId": "01223455995351985189"
     },
     "user_tz": -120
    },
    "id": "g9s5qeooaWFH",
    "outputId": "eb0d2209-b19a-4c6f-8914-efb94363149c"
   },
   "outputs": [],
   "source": [
    "df.info()"
   ]
  },
  {
   "cell_type": "code",
   "execution_count": null,
   "metadata": {
    "id": "h1xB4x4_UXha"
   },
   "outputs": [],
   "source": [
    "df.fillna(2, inplace=True)"
   ]
  },
  {
   "cell_type": "code",
   "execution_count": null,
   "metadata": {
    "colab": {
     "base_uri": "https://localhost:8080/"
    },
    "executionInfo": {
     "elapsed": 18,
     "status": "ok",
     "timestamp": 1685098249229,
     "user": {
      "displayName": "Amaia Pikatza Huerga",
      "userId": "01223455995351985189"
     },
     "user_tz": -120
    },
    "id": "0vrbCg7d21Zs",
    "outputId": "70bcf157-dc32-4120-cafd-8be402269af6"
   },
   "outputs": [],
   "source": [
    "df['EDAD'] = df_T1['EDAD'].replace(' ', '', regex=True).replace('', np.nan).astype(float)\n",
    "df.dropna(inplace=True)\n",
    "df.reset_index(drop=True, inplace=True)\n",
    "df.info()"
   ]
  },
  {
   "cell_type": "code",
   "execution_count": null,
   "metadata": {
    "id": "TFF1IM-cwQ8s"
   },
   "outputs": [],
   "source": [
    "from sklearn.preprocessing import MinMaxScaler\n",
    "\n",
    "X = df.drop(['NR_T2'], axis=1)\n",
    "\n",
    "# Crea un objeto MinMaxScaler\n",
    "scaler = MinMaxScaler()\n",
    "\n",
    "# Escala los valores de las características en el rango [0, 1]\n",
    "X = scaler.fit_transform(X)\n",
    "\n",
    "# Convertir la matriz X a un DataFrame\n",
    "df_scaled = pd.DataFrame(X, columns=df.columns[:-1])\n",
    "\n",
    "# Añadir la columna 'NR_T2' al DataFrame escalado\n",
    "df_scaled['NR_T2'] = df['NR_T2']"
   ]
  },
  {
   "cell_type": "code",
   "execution_count": null,
   "metadata": {
    "colab": {
     "base_uri": "https://localhost:8080/"
    },
    "executionInfo": {
     "elapsed": 12,
     "status": "ok",
     "timestamp": 1685098249861,
     "user": {
      "displayName": "Amaia Pikatza Huerga",
      "userId": "01223455995351985189"
     },
     "user_tz": -120
    },
    "id": "AnwSneG3lxBZ",
    "outputId": "b8f5777b-aa5d-4c82-8923-7f45dd722fe7"
   },
   "outputs": [],
   "source": [
    "df_scaled['NR_T2'].unique()"
   ]
  },
  {
   "cell_type": "code",
   "execution_count": null,
   "metadata": {
    "id": "2rxG7gGHKwP5"
   },
   "outputs": [],
   "source": [
    "from sklearn.model_selection import train_test_split\n",
    "\n",
    "train_test_ratio = 0.8\n",
    "df_train, df_test = train_test_split(df_scaled, train_size = train_test_ratio, random_state = 1)"
   ]
  },
  {
   "cell_type": "code",
   "execution_count": null,
   "metadata": {
    "colab": {
     "base_uri": "https://localhost:8080/"
    },
    "executionInfo": {
     "elapsed": 15,
     "status": "ok",
     "timestamp": 1685098250847,
     "user": {
      "displayName": "Amaia Pikatza Huerga",
      "userId": "01223455995351985189"
     },
     "user_tz": -120
    },
    "id": "77HX4wEo8NPN",
    "outputId": "e4220596-13e2-4c40-ac70-67ada89d52b4"
   },
   "outputs": [],
   "source": [
    "df_train.info()"
   ]
  },
  {
   "cell_type": "code",
   "execution_count": null,
   "metadata": {
    "colab": {
     "base_uri": "https://localhost:8080/"
    },
    "executionInfo": {
     "elapsed": 15,
     "status": "ok",
     "timestamp": 1685098250848,
     "user": {
      "displayName": "Amaia Pikatza Huerga",
      "userId": "01223455995351985189"
     },
     "user_tz": -120
    },
    "id": "IhlGQ3wo8Ud_",
    "outputId": "bea5df3a-5bc4-4b9e-db2c-04abeca561a0"
   },
   "outputs": [],
   "source": [
    "df_test.info()"
   ]
  },
  {
   "cell_type": "code",
   "execution_count": null,
   "metadata": {
    "id": "g5itBVoPwgDv"
   },
   "outputs": [],
   "source": [
    "df_train.to_csv(train_path)\n",
    "df_test.to_csv(test_path)"
   ]
  },
  {
   "cell_type": "markdown",
   "metadata": {
    "id": "AKIqES35ycwA"
   },
   "source": [
    "# Análisis del dataset"
   ]
  },
  {
   "cell_type": "code",
   "execution_count": null,
   "metadata": {
    "colab": {
     "base_uri": "https://localhost:8080/"
    },
    "executionInfo": {
     "elapsed": 10,
     "status": "ok",
     "timestamp": 1684926117317,
     "user": {
      "displayName": "Amaia Pikatza Huerga",
      "userId": "01223455995351985189"
     },
     "user_tz": -120
    },
    "id": "vSeyIEs_vZSs",
    "outputId": "978df391-583d-4535-971c-d20a2672b39a"
   },
   "outputs": [],
   "source": [
    "df.info()"
   ]
  },
  {
   "cell_type": "code",
   "execution_count": null,
   "metadata": {
    "colab": {
     "base_uri": "https://localhost:8080/"
    },
    "executionInfo": {
     "elapsed": 8,
     "status": "ok",
     "timestamp": 1684926117318,
     "user": {
      "displayName": "Amaia Pikatza Huerga",
      "userId": "01223455995351985189"
     },
     "user_tz": -120
    },
    "id": "TN8IX8MRvaah",
    "outputId": "cddb012e-e163-4937-a954-3eeb6fbc0e15"
   },
   "outputs": [],
   "source": [
    "df.dtypes"
   ]
  },
  {
   "cell_type": "code",
   "execution_count": null,
   "metadata": {
    "colab": {
     "base_uri": "https://localhost:8080/",
     "height": 394
    },
    "executionInfo": {
     "elapsed": 1030,
     "status": "ok",
     "timestamp": 1684926118342,
     "user": {
      "displayName": "Amaia Pikatza Huerga",
      "userId": "01223455995351985189"
     },
     "user_tz": -120
    },
    "id": "9aa6pVKA8dSY",
    "outputId": "31d9b3c2-7ad3-4a6e-8d6f-807629ead437"
   },
   "outputs": [],
   "source": [
    "df.describe()"
   ]
  },
  {
   "cell_type": "code",
   "execution_count": null,
   "metadata": {
    "colab": {
     "base_uri": "https://localhost:8080/"
    },
    "executionInfo": {
     "elapsed": 90,
     "status": "ok",
     "timestamp": 1684926118389,
     "user": {
      "displayName": "Amaia Pikatza Huerga",
      "userId": "01223455995351985189"
     },
     "user_tz": -120
    },
    "id": "KSIqNafEvqVM",
    "outputId": "4980c8d5-bc46-4206-e0db-ae4e524b9eaa"
   },
   "outputs": [],
   "source": [
    "df.isna().sum()"
   ]
  },
  {
   "cell_type": "code",
   "execution_count": null,
   "metadata": {
    "id": "KLEBjtcxwClm"
   },
   "outputs": [],
   "source": [
    "df = df.dropna()"
   ]
  },
  {
   "cell_type": "code",
   "execution_count": null,
   "metadata": {
    "colab": {
     "base_uri": "https://localhost:8080/"
    },
    "executionInfo": {
     "elapsed": 88,
     "status": "ok",
     "timestamp": 1684926118392,
     "user": {
      "displayName": "Amaia Pikatza Huerga",
      "userId": "01223455995351985189"
     },
     "user_tz": -120
    },
    "id": "1NN7Fj3vwFBb",
    "outputId": "42870d48-8088-4d95-c185-723d42bf2a36"
   },
   "outputs": [],
   "source": [
    "df.info()"
   ]
  },
  {
   "cell_type": "code",
   "execution_count": null,
   "metadata": {
    "colab": {
     "base_uri": "https://localhost:8080/"
    },
    "executionInfo": {
     "elapsed": 82,
     "status": "ok",
     "timestamp": 1684926118393,
     "user": {
      "displayName": "Amaia Pikatza Huerga",
      "userId": "01223455995351985189"
     },
     "user_tz": -120
    },
    "id": "63gICKhawHpf",
    "outputId": "e7c402a1-f3a4-469d-de88-b8d0ae1f8c29"
   },
   "outputs": [],
   "source": [
    "df.isna().sum()"
   ]
  },
  {
   "cell_type": "code",
   "execution_count": null,
   "metadata": {
    "colab": {
     "base_uri": "https://localhost:8080/",
     "height": 1000
    },
    "executionInfo": {
     "elapsed": 26682,
     "status": "ok",
     "timestamp": 1684926144997,
     "user": {
      "displayName": "Amaia Pikatza Huerga",
      "userId": "01223455995351985189"
     },
     "user_tz": -120
    },
    "id": "J14CELum8lPF",
    "outputId": "de6ffcab-8109-46b3-f394-595720bb6598"
   },
   "outputs": [],
   "source": [
    "df.hist(layout=(120, 4), figsize=(10,80));"
   ]
  },
  {
   "cell_type": "code",
   "execution_count": null,
   "metadata": {
    "colab": {
     "base_uri": "https://localhost:8080/"
    },
    "executionInfo": {
     "elapsed": 88,
     "status": "ok",
     "timestamp": 1684926145000,
     "user": {
      "displayName": "Amaia Pikatza Huerga",
      "userId": "01223455995351985189"
     },
     "user_tz": -120
    },
    "id": "5GWWqZYgBVfl",
    "outputId": "23bfa528-f13d-4db5-a8e7-2708684375e1"
   },
   "outputs": [],
   "source": [
    "# Compute correlation matrix\n",
    "corr_matrix = df.corr()\n",
    "\n",
    "# Find columns and indices where correlation coefficient is 1 or -1\n",
    "corr_coeff_1_or_minus_1 = corr_matrix\n",
    "correlation_pairs = []\n",
    "\n",
    "# Iterate over the rows of the correlation matrix\n",
    "for row in corr_coeff_1_or_minus_1.iterrows():\n",
    "    col = row[0]\n",
    "    corr_coeff = row[1].dropna()\n",
    "    for index, value in corr_coeff.items():\n",
    "        correlation_pairs.append((col, index, value))\n",
    "\n",
    "# Display the correlated column pairs with correlation coefficient of 1 or -1\n",
    "for pair in correlation_pairs:\n",
    "    col1, col2, corr_coeff = pair\n",
    "    if (corr_coeff > 0.9 or corr_coeff < -0.9) and col1 != col2:\n",
    "      print(\"Column '{}' has correlation coefficient {} with column '{}'\".format(col1, corr_coeff, col2))\n"
   ]
  },
  {
   "cell_type": "code",
   "execution_count": null,
   "metadata": {
    "colab": {
     "base_uri": "https://localhost:8080/",
     "height": 558
    },
    "executionInfo": {
     "elapsed": 748,
     "status": "ok",
     "timestamp": 1684926145674,
     "user": {
      "displayName": "Amaia Pikatza Huerga",
      "userId": "01223455995351985189"
     },
     "user_tz": -120
    },
    "id": "XU4KmpH0DVvt",
    "outputId": "8b0c6ffa-a1cb-4590-b17e-4cc85f6f195b"
   },
   "outputs": [],
   "source": [
    "import seaborn as sns\n",
    "import matplotlib.pyplot as plt\n",
    "\n",
    "correlation = df.corr()\n",
    "\n",
    "# Create a heatmap with Seaborn\n",
    "sns.heatmap(correlation, cmap=\"RdYlGn\")\n",
    "\n",
    "# Show the plot\n",
    "plt.title(\"Correlation Matrix\")\n",
    "plt.show()"
   ]
  },
  {
   "cell_type": "markdown",
   "metadata": {
    "id": "_GjfLsFqB8Jt"
   },
   "source": [
    "# Modelos"
   ]
  },
  {
   "cell_type": "code",
   "execution_count": null,
   "metadata": {
    "executionInfo": {
     "elapsed": 3805,
     "status": "ok",
     "timestamp": 1687256167830,
     "user": {
      "displayName": "Amaia Pikatza Huerga",
      "userId": "01223455995351985189"
     },
     "user_tz": -120
    },
    "id": "vbeYFiL81g_A"
   },
   "outputs": [],
   "source": [
    "# Importar las bibliotecas necesarias\n",
    "import pandas as pd\n",
    "from sklearn.linear_model import LinearRegression, RANSACRegressor, TheilSenRegressor, HuberRegressor\n",
    "from sklearn.model_selection import GridSearchCV\n",
    "from sklearn.metrics import accuracy_score, r2_score\n",
    "from sklearn.svm import SVR\n",
    "from sklearn.inspection import permutation_importance\n",
    "from xgboost import XGBRegressor"
   ]
  },
  {
   "cell_type": "markdown",
   "metadata": {
    "id": "YeakkSiACPsp"
   },
   "source": [
    "### Regresión lineal"
   ]
  },
  {
   "cell_type": "code",
   "execution_count": null,
   "metadata": {
    "executionInfo": {
     "elapsed": 11,
     "status": "ok",
     "timestamp": 1687256167830,
     "user": {
      "displayName": "Amaia Pikatza Huerga",
      "userId": "01223455995351985189"
     },
     "user_tz": -120
    },
    "id": "GgdpTNh5CPs0"
   },
   "outputs": [],
   "source": [
    "def linear_regresion(X_train, y_train, X_test, y_test):\n",
    "  # Create an instance of the LinearRegression model with default parameters\n",
    "  model = LinearRegression()\n",
    "\n",
    "  # Define the hyperparameters to tune and their possible values\n",
    "  param_grid = {\n",
    "      'fit_intercept': [True, False]\n",
    "  }\n",
    "\n",
    "  # Create an instance of the GridSearchCV with the model and parameter grid\n",
    "  grid_search = GridSearchCV(estimator=model, param_grid=param_grid, cv=5)\n",
    "\n",
    "  # Fit the GridSearchCV to the training data\n",
    "  grid_search.fit(X_train, y_train)\n",
    "\n",
    "  # Get the best parameters\n",
    "  best_params = grid_search.best_params_\n",
    "  # Imprimir los mejores valores de los hiperparámetros\n",
    "  print(\"Mejores hiperparámetros: \", best_params)\n",
    "\n",
    "  # Create a new model instance using the best parameters\n",
    "  new_model = LinearRegression(**best_params)\n",
    "  new_model.fit(X_train, y_train)\n",
    "  lr_pred = new_model.predict(X_test)\n",
    "\n",
    "  return lr_pred, param_grid['fit_intercept']"
   ]
  },
  {
   "cell_type": "markdown",
   "metadata": {
    "id": "rxNo_f2_nvNb"
   },
   "source": [
    "## RANSAC"
   ]
  },
  {
   "cell_type": "code",
   "execution_count": null,
   "metadata": {
    "executionInfo": {
     "elapsed": 10,
     "status": "ok",
     "timestamp": 1687256167831,
     "user": {
      "displayName": "Amaia Pikatza Huerga",
      "userId": "01223455995351985189"
     },
     "user_tz": -120
    },
    "id": "HIIPhGjAnyAG"
   },
   "outputs": [],
   "source": [
    "def ransac_regression(X_train, y_train, X_test, y_test, fit_intercept=True):\n",
    "    model = RANSACRegressor(base_estimator=LinearRegression(fit_intercept=False), min_samples=45)\n",
    "    model.fit(X_train, y_train)\n",
    "    rr_pred = model.predict(X_test)\n",
    "\n",
    "    return rr_pred"
   ]
  },
  {
   "cell_type": "markdown",
   "metadata": {
    "id": "lk00HtCYoAaW"
   },
   "source": [
    "## Theil Sen"
   ]
  },
  {
   "cell_type": "code",
   "execution_count": null,
   "metadata": {
    "executionInfo": {
     "elapsed": 9,
     "status": "ok",
     "timestamp": 1687256167831,
     "user": {
      "displayName": "Amaia Pikatza Huerga",
      "userId": "01223455995351985189"
     },
     "user_tz": -120
    },
    "id": "TKilFDtYoJNO"
   },
   "outputs": [],
   "source": [
    "def theil_sen_regression(X_train, y_train, X_test, y_test):\n",
    "    model = TheilSenRegressor()\n",
    "    param_grid = {'fit_intercept': [True, False]}\n",
    "\n",
    "    grid_search = GridSearchCV(estimator=model, param_grid=param_grid, cv=5)\n",
    "    grid_search.fit(X_train, y_train)\n",
    "    best_params = grid_search.best_params_\n",
    "    print(\"Best hyperparameters: \", best_params)\n",
    "\n",
    "    new_model = TheilSenRegressor(**best_params)\n",
    "    new_model.fit(X_train, y_train)\n",
    "    ts_pred = new_model.predict(X_test)\n",
    "\n",
    "    return ts_pred"
   ]
  },
  {
   "cell_type": "markdown",
   "metadata": {
    "id": "UkN-8PPMoBia"
   },
   "source": [
    "## HuberRegressor"
   ]
  },
  {
   "cell_type": "code",
   "execution_count": null,
   "metadata": {
    "executionInfo": {
     "elapsed": 8,
     "status": "ok",
     "timestamp": 1687256167832,
     "user": {
      "displayName": "Amaia Pikatza Huerga",
      "userId": "01223455995351985189"
     },
     "user_tz": -120
    },
    "id": "56m8G-0JoJzZ"
   },
   "outputs": [],
   "source": [
    "def huber_regression(X_train, y_train, X_test, y_test):\n",
    "    model = HuberRegressor()\n",
    "    param_grid = {'fit_intercept': [True, False]}\n",
    "\n",
    "    grid_search = GridSearchCV(estimator=model, param_grid=param_grid, cv=5)\n",
    "    grid_search.fit(X_train, y_train)\n",
    "    best_params = grid_search.best_params_\n",
    "    print(\"Best hyperparameters: \", best_params)\n",
    "\n",
    "    new_model = HuberRegressor(**best_params)\n",
    "    new_model.fit(X_train, y_train)\n",
    "    hr_pred = new_model.predict(X_test)\n",
    "\n",
    "    return hr_pred"
   ]
  },
  {
   "cell_type": "markdown",
   "metadata": {
    "id": "ty0gbLGIoEF7"
   },
   "source": [
    "## SVR"
   ]
  },
  {
   "cell_type": "code",
   "execution_count": null,
   "metadata": {
    "executionInfo": {
     "elapsed": 10,
     "status": "ok",
     "timestamp": 1687256167834,
     "user": {
      "displayName": "Amaia Pikatza Huerga",
      "userId": "01223455995351985189"
     },
     "user_tz": -120
    },
    "id": "Pn79CM3joMcO"
   },
   "outputs": [],
   "source": [
    "def svr_regression(X_train, y_train, X_test, y_test):\n",
    "    model = SVR()\n",
    "    param_grid = {'kernel': ['linear', 'rbf', 'poly']}\n",
    "\n",
    "    grid_search = GridSearchCV(estimator=model, param_grid=param_grid, cv=5)\n",
    "    grid_search.fit(X_train, y_train)\n",
    "    best_params = grid_search.best_params_\n",
    "    print(\"Best hyperparameters: \", best_params)\n",
    "\n",
    "    new_model = SVR(**best_params)\n",
    "    new_model.fit(X_train, y_train)\n",
    "    svr_pred = new_model.predict(X_test)\n",
    "\n",
    "    return svr_pred, new_model"
   ]
  },
  {
   "cell_type": "markdown",
   "metadata": {
    "id": "9zqbaV4coFaF"
   },
   "source": [
    "## XGBoost regression"
   ]
  },
  {
   "cell_type": "code",
   "execution_count": null,
   "metadata": {
    "executionInfo": {
     "elapsed": 9,
     "status": "ok",
     "timestamp": 1687256167835,
     "user": {
      "displayName": "Amaia Pikatza Huerga",
      "userId": "01223455995351985189"
     },
     "user_tz": -120
    },
    "id": "HKNM2mW6oMyr"
   },
   "outputs": [],
   "source": [
    "def xgboost_regression(X_train, y_train, X_test, y_test):\n",
    "    model = XGBRegressor()\n",
    "    param_grid = {'learning_rate': [0.1, 0.01, 0.001]}\n",
    "\n",
    "    grid_search = GridSearchCV(estimator=model, param_grid=param_grid, cv=5)\n",
    "    grid_search.fit(X_train, y_train)\n",
    "    best_params = grid_search.best_params_\n",
    "    print(\"Best hyperparameters: \", best_params)\n",
    "\n",
    "    new_model = XGBRegressor(**best_params)\n",
    "    new_model.fit(X_train, y_train)\n",
    "    xgb_pred = new_model.predict(X_test)\n",
    "\n",
    "    return xgb_pred"
   ]
  },
  {
   "cell_type": "markdown",
   "metadata": {
    "id": "iHkuYos8VLUP"
   },
   "source": [
    "# Resultados"
   ]
  },
  {
   "cell_type": "code",
   "execution_count": null,
   "metadata": {
    "colab": {
     "base_uri": "https://localhost:8080/",
     "height": 49
    },
    "executionInfo": {
     "elapsed": 783,
     "status": "ok",
     "timestamp": 1687244519784,
     "user": {
      "displayName": "Amaia Pikatza Huerga",
      "userId": "01223455995351985189"
     },
     "user_tz": -120
    },
    "id": "3EKbJMsA5J4R",
    "outputId": "98ca69e7-2119-453e-ba4b-c85d458e3f14"
   },
   "outputs": [],
   "source": [
    "columns = ['Regresión Lineal', 'RANSAC', 'Theil Sen', 'HuberRegressor', 'SVR', 'XGBoost regression']\n",
    "results = pd.DataFrame(columns=columns)\n",
    "results"
   ]
  },
  {
   "cell_type": "code",
   "execution_count": null,
   "metadata": {
    "executionInfo": {
     "elapsed": 342,
     "status": "ok",
     "timestamp": 1687256268847,
     "user": {
      "displayName": "Amaia Pikatza Huerga",
      "userId": "01223455995351985189"
     },
     "user_tz": -120
    },
    "id": "EwE3XBhDQCNw"
   },
   "outputs": [],
   "source": [
    "import matplotlib.pyplot as plt\n",
    "\n",
    "def calculateImportance(svr, X_train):\n",
    "    # Step 2: Retrieve feature weights\n",
    "    feature_weights = np.abs(svr.coef_.ravel())\n",
    "\n",
    "    # Step 3: Normalize feature weights\n",
    "    normalized_weights = feature_weights / np.sum(feature_weights)\n",
    "\n",
    "    # Step 4: Sort normalized feature weights\n",
    "    sorted_indices = np.argsort(normalized_weights)[::1]\n",
    "    sorted_weights = normalized_weights[sorted_indices]\n",
    "    sorted_features = X_train.columns[sorted_indices]\n",
    "\n",
    "    # Plot feature importance\n",
    "    plt.figure(figsize=(8, 6))\n",
    "    plt.barh(range(len(sorted_weights)), sorted_weights, align='center')\n",
    "    plt.yticks(range(len(sorted_weights)), sorted_features)\n",
    "    plt.xlabel('Feature Importance')\n",
    "    plt.ylabel('Features')\n",
    "    plt.show()"
   ]
  },
  {
   "cell_type": "markdown",
   "metadata": {
    "id": "eymYMftLxRrc"
   },
   "source": [
    "## Clasificación con dataset completo"
   ]
  },
  {
   "cell_type": "code",
   "execution_count": null,
   "metadata": {
    "id": "vBEnDHZIxVMi"
   },
   "outputs": [],
   "source": [
    "df_train = pd.read_csv(train_path)\n",
    "df_test = pd.read_csv(test_path)\n",
    "\n",
    "X_train = df_train.drop(['NR_T2'], axis=1)\n",
    "y_train = df_train['NR_T2']\n",
    "X_test = df_test.drop(['NR_T2'], axis=1)\n",
    "y_test = df_test['NR_T2']"
   ]
  },
  {
   "cell_type": "code",
   "execution_count": null,
   "metadata": {
    "colab": {
     "base_uri": "https://localhost:8080/"
    },
    "executionInfo": {
     "elapsed": 7434,
     "status": "ok",
     "timestamp": 1687244528004,
     "user": {
      "displayName": "Amaia Pikatza Huerga",
      "userId": "01223455995351985189"
     },
     "user_tz": -120
    },
    "id": "Ozkpgyq_S1Um",
    "outputId": "4a5c95ad-e3d9-47c1-e95f-47cb6a2e25b4"
   },
   "outputs": [],
   "source": [
    "lr_pred, fit_intercept = linear_regresion(X_train, y_train, X_test, y_test)\n",
    "rr_pred = ransac_regression(X_train, y_train, X_test, y_test, fit_intercept)\n",
    "ts_red = theil_sen_regression(X_train, y_train, X_test, y_test)\n",
    "hr_pred = huber_regression(X_train, y_train, X_test, y_test)\n",
    "svr_pred, svr = svr_regression(X_train, y_train, X_test, y_test)\n",
    "xgb_pred = xgboost_regression(X_train, y_train, X_test, y_test)"
   ]
  },
  {
   "cell_type": "code",
   "execution_count": null,
   "metadata": {
    "id": "2YQdBJJrQAVn"
   },
   "outputs": [],
   "source": [
    "results.loc['Completo'] = [r2_score(y_test, lr_pred), r2_score(y_test, rr_pred), r2_score(y_test, ts_red),\n",
    "                           r2_score(y_test, hr_pred), r2_score(y_test, svr_pred), r2_score(y_test, xgb_pred)]"
   ]
  },
  {
   "cell_type": "markdown",
   "metadata": {
    "id": "8a6Dpn58QRwS"
   },
   "source": [
    "### Explainability"
   ]
  },
  {
   "cell_type": "code",
   "execution_count": null,
   "metadata": {
    "colab": {
     "base_uri": "https://localhost:8080/",
     "height": 54
    },
    "executionInfo": {
     "elapsed": 1759,
     "status": "ok",
     "timestamp": 1687244529711,
     "user": {
      "displayName": "Amaia Pikatza Huerga",
      "userId": "01223455995351985189"
     },
     "user_tz": -120
    },
    "id": "RVQPBJ6EQRwT",
    "outputId": "9809d3e5-620b-4dd5-e236-478c41017b3b"
   },
   "outputs": [],
   "source": [
    "calculateImportance(svr, X_train)"
   ]
  },
  {
   "cell_type": "markdown",
   "metadata": {
    "id": "KXMWxYrV7Tfu"
   },
   "source": [
    "## Clasificación con dataset completo (extracción de carácteristicas)"
   ]
  },
  {
   "cell_type": "code",
   "execution_count": null,
   "metadata": {
    "executionInfo": {
     "elapsed": 1368,
     "status": "ok",
     "timestamp": 1687256203223,
     "user": {
      "displayName": "Amaia Pikatza Huerga",
      "userId": "01223455995351985189"
     },
     "user_tz": -120
    },
    "id": "Im8Ism9Xxwv9"
   },
   "outputs": [],
   "source": [
    "df_train = pd.read_csv(train_path)\n",
    "df_test = pd.read_csv(test_path)"
   ]
  },
  {
   "cell_type": "code",
   "execution_count": null,
   "metadata": {
    "executionInfo": {
     "elapsed": 9,
     "status": "ok",
     "timestamp": 1687256203224,
     "user": {
      "displayName": "Amaia Pikatza Huerga",
      "userId": "01223455995351985189"
     },
     "user_tz": -120
    },
    "id": "dlDQCrGP9I9N"
   },
   "outputs": [],
   "source": [
    "df_train_ec = pd.DataFrame()\n",
    "df_test_ec = pd.DataFrame()\n",
    "\n",
    "c = df_train.filter(regex='^WHOQOL').columns.tolist()\n",
    "df_train_ec['WHOQOL'] = df_train[c].sum(axis=1)\n",
    "c = df_train.filter(regex='^HAD').columns.tolist()\n",
    "df_train_ec['HAD'] = df_train[c].sum(axis=1)\n",
    "c = df_train.filter(regex='^EAT').columns.tolist()\n",
    "df_train_ec['EAT'] = df_train[c].sum(axis=1)\n",
    "c = df_train.filter(regex='^RESI[^_]').columns.tolist()\n",
    "df_train_ec['RESI'] = df_train[c].sum(axis=1)\n",
    "c = df_train.filter(regex='^SEIGOODDOING').columns.tolist()\n",
    "df_train_ec['SEIGGOODDOING'] = df_train[c].sum(axis=1)\n",
    "c = df_train.filter(regex='^RESI_').columns.tolist()\n",
    "df_train_ec['RESI_ULTIM'] = df_train[c].sum(axis=1)\n",
    "df_train_ec['NR_T2'] = df_train['NR_T2']\n",
    "\n",
    "c = df_test.filter(regex='^WHOQOL').columns.tolist()\n",
    "df_test_ec['WHOQOL'] = df_test[c].sum(axis=1)\n",
    "c = df_test.filter(regex='^HAD').columns.tolist()\n",
    "df_test_ec['HAD'] = df_test[c].sum(axis=1)\n",
    "c = df_test.filter(regex='^EAT').columns.tolist()\n",
    "df_test_ec['EAT'] = df_test[c].sum(axis=1)\n",
    "c = df_test.filter(regex='^RESI[^_]').columns.tolist()\n",
    "df_test_ec['RESI'] = df_test[c].sum(axis=1)\n",
    "c = df_test.filter(regex='^SEIGOODDOING').columns.tolist()\n",
    "df_test_ec['SEIGGOODDOING'] = df_test[c].sum(axis=1)\n",
    "c = df_test.filter(regex='^RESI_').columns.tolist()\n",
    "df_test_ec['RESI_ULTIM'] = df_test[c].sum(axis=1)\n",
    "df_test_ec['NR_T2'] = df_test['NR_T2']"
   ]
  },
  {
   "cell_type": "code",
   "execution_count": null,
   "metadata": {
    "executionInfo": {
     "elapsed": 401,
     "status": "ok",
     "timestamp": 1687256205538,
     "user": {
      "displayName": "Amaia Pikatza Huerga",
      "userId": "01223455995351985189"
     },
     "user_tz": -120
    },
    "id": "MdUCWyX77Tfx"
   },
   "outputs": [],
   "source": [
    "X_train = df_train_ec.drop(['NR_T2'], axis=1)\n",
    "y_train = df_train_ec['NR_T2']\n",
    "X_test = df_test_ec.drop(['NR_T2'], axis=1)\n",
    "y_test = df_test_ec['NR_T2']"
   ]
  },
  {
   "cell_type": "code",
   "execution_count": null,
   "metadata": {
    "colab": {
     "base_uri": "https://localhost:8080/"
    },
    "executionInfo": {
     "elapsed": 7295,
     "status": "ok",
     "timestamp": 1687256213250,
     "user": {
      "displayName": "Amaia Pikatza Huerga",
      "userId": "01223455995351985189"
     },
     "user_tz": -120
    },
    "id": "RAmCKg0VWjRw",
    "outputId": "02674b78-31e7-418e-c1e6-fb7fb14ccea0"
   },
   "outputs": [],
   "source": [
    "# lr_pred, fit_intercept = linear_regresion(X_train, y_train, X_test, y_test)\n",
    "# rr_pred = ransac_regression(X_train, y_train, X_test, y_test, fit_intercept)\n",
    "# ts_red = theil_sen_regression(X_train, y_train, X_test, y_test)\n",
    "# hr_pred = huber_regression(X_train, y_train, X_test, y_test)\n",
    "svr_pred, svr = svr_regression(X_train, y_train, X_test, y_test)\n",
    "joblib.dump(svr, \"svr_model.pkl\")\n",
    "xgb_pred = xgboost_regression(X_train, y_train, X_test, y_test)"
   ]
  },
  {
   "cell_type": "code",
   "execution_count": null,
   "metadata": {
    "id": "-XX6FnOy7TgA"
   },
   "outputs": [],
   "source": [
    "results.loc['Completo (EC)'] = [r2_score(y_test, lr_pred), r2_score(y_test, rr_pred), r2_score(y_test, ts_red),\n",
    "                           r2_score(y_test, hr_pred), r2_score(y_test, svr_pred), r2_score(y_test, xgb_pred)]"
   ]
  },
  {
   "cell_type": "markdown",
   "metadata": {
    "id": "9KAmDlglmrR8"
   },
   "source": [
    "### Explainability"
   ]
  },
  {
   "cell_type": "code",
   "execution_count": null,
   "metadata": {
    "colab": {
     "base_uri": "https://localhost:8080/",
     "height": 542
    },
    "executionInfo": {
     "elapsed": 387,
     "status": "ok",
     "timestamp": 1687256272080,
     "user": {
      "displayName": "Amaia Pikatza Huerga",
      "userId": "01223455995351985189"
     },
     "user_tz": -120
    },
    "id": "5Uc23qW3mrR9",
    "outputId": "0cd252b6-a588-44da-ea0d-34128aa60894"
   },
   "outputs": [],
   "source": [
    "calculateImportance(svr, X_train)"
   ]
  },
  {
   "cell_type": "markdown",
   "metadata": {
    "id": "ZizcheImkUVI"
   },
   "source": [
    "## Clasificación con WHOQOL"
   ]
  },
  {
   "cell_type": "code",
   "execution_count": null,
   "metadata": {
    "id": "vhzmPo3HkUVW"
   },
   "outputs": [],
   "source": [
    "df_train = pd.read_csv(train_path)\n",
    "df_test = pd.read_csv(test_path)\n",
    "\n",
    "X_train = df_train.drop(['NR_T2'], axis=1).filter(regex='^WHOQOL')\n",
    "y_train = df_train['NR_T2']\n",
    "X_test = df_test.drop(['NR_T2'], axis=1).filter(regex='^WHOQOL')\n",
    "y_test = df_test['NR_T2']"
   ]
  },
  {
   "cell_type": "code",
   "execution_count": null,
   "metadata": {
    "colab": {
     "base_uri": "https://localhost:8080/"
    },
    "executionInfo": {
     "elapsed": 42332,
     "status": "ok",
     "timestamp": 1687244580859,
     "user": {
      "displayName": "Amaia Pikatza Huerga",
      "userId": "01223455995351985189"
     },
     "user_tz": -120
    },
    "id": "08QrwuUXW3w_",
    "outputId": "b02dca06-33d9-4ce7-c418-e62fb7c3ce1f"
   },
   "outputs": [],
   "source": [
    "lr_pred, fit_intercept = linear_regresion(X_train, y_train, X_test, y_test)\n",
    "rr_pred = ransac_regression(X_train, y_train, X_test, y_test, fit_intercept)\n",
    "ts_red = theil_sen_regression(X_train, y_train, X_test, y_test)\n",
    "hr_pred = huber_regression(X_train, y_train, X_test, y_test)\n",
    "svr_pred, svr = svr_regression(X_train, y_train, X_test, y_test)\n",
    "xgb_pred = xgboost_regression(X_train, y_train, X_test, y_test)"
   ]
  },
  {
   "cell_type": "code",
   "execution_count": null,
   "metadata": {
    "id": "lcvMA6fNkUVe"
   },
   "outputs": [],
   "source": [
    "results.loc['WHOQOL'] = [r2_score(y_test, lr_pred), r2_score(y_test, rr_pred), r2_score(y_test, ts_red),\n",
    "                           r2_score(y_test, hr_pred), r2_score(y_test, svr_pred), r2_score(y_test, xgb_pred)]"
   ]
  },
  {
   "cell_type": "markdown",
   "metadata": {
    "id": "nf3q8vdTmpp7"
   },
   "source": [
    "### Explainability"
   ]
  },
  {
   "cell_type": "code",
   "execution_count": null,
   "metadata": {
    "colab": {
     "base_uri": "https://localhost:8080/",
     "height": 1000
    },
    "executionInfo": {
     "elapsed": 657,
     "status": "ok",
     "timestamp": 1687244581440,
     "user": {
      "displayName": "Amaia Pikatza Huerga",
      "userId": "01223455995351985189"
     },
     "user_tz": -120
    },
    "id": "2nePl1Ctmpp8",
    "outputId": "a58c7999-ce89-44f0-fc6e-5b1418433f61"
   },
   "outputs": [],
   "source": [
    "calculateImportance(svr, X_train)"
   ]
  },
  {
   "cell_type": "markdown",
   "metadata": {
    "id": "QNO31yNglM0i"
   },
   "source": [
    "## Clasificación con HAD"
   ]
  },
  {
   "cell_type": "code",
   "execution_count": null,
   "metadata": {
    "id": "6jzz00PFlM0v"
   },
   "outputs": [],
   "source": [
    "df_train = pd.read_csv(train_path)\n",
    "df_test = pd.read_csv(test_path)\n",
    "\n",
    "X_train = df_train.drop(['NR_T2'], axis=1).filter(regex='^HAD')\n",
    "y_train = df_train['NR_T2']\n",
    "X_test = df_test.drop(['NR_T2'], axis=1).filter(regex='^HAD')\n",
    "y_test = df_test['NR_T2']"
   ]
  },
  {
   "cell_type": "code",
   "execution_count": null,
   "metadata": {
    "colab": {
     "base_uri": "https://localhost:8080/"
    },
    "executionInfo": {
     "elapsed": 16170,
     "status": "ok",
     "timestamp": 1687244597554,
     "user": {
      "displayName": "Amaia Pikatza Huerga",
      "userId": "01223455995351985189"
     },
     "user_tz": -120
    },
    "id": "BU50y5G7XB5Q",
    "outputId": "0dd54d88-e27d-4f04-d55b-e91dda0037e1"
   },
   "outputs": [],
   "source": [
    "lr_pred, fit_intercept = linear_regresion(X_train, y_train, X_test, y_test)\n",
    "rr_pred = ransac_regression(X_train, y_train, X_test, y_test, fit_intercept)\n",
    "ts_red = theil_sen_regression(X_train, y_train, X_test, y_test)\n",
    "hr_pred = huber_regression(X_train, y_train, X_test, y_test)\n",
    "svr_pred, svr = svr_regression(X_train, y_train, X_test, y_test)\n",
    "xgb_pred = xgboost_regression(X_train, y_train, X_test, y_test)"
   ]
  },
  {
   "cell_type": "code",
   "execution_count": null,
   "metadata": {
    "id": "gVVkei1plM05"
   },
   "outputs": [],
   "source": [
    "results.loc['HAD'] = [r2_score(y_test, lr_pred), r2_score(y_test, rr_pred), r2_score(y_test, ts_red),\n",
    "                           r2_score(y_test, hr_pred), r2_score(y_test, svr_pred), r2_score(y_test, xgb_pred)]"
   ]
  },
  {
   "cell_type": "markdown",
   "metadata": {
    "id": "GauuXRTImsf-"
   },
   "source": [
    "### Explainability"
   ]
  },
  {
   "cell_type": "code",
   "execution_count": null,
   "metadata": {
    "colab": {
     "base_uri": "https://localhost:8080/",
     "height": 1000
    },
    "executionInfo": {
     "elapsed": 895,
     "status": "ok",
     "timestamp": 1687244598363,
     "user": {
      "displayName": "Amaia Pikatza Huerga",
      "userId": "01223455995351985189"
     },
     "user_tz": -120
    },
    "id": "ZEiBCmZqmsgf",
    "outputId": "131302e7-7857-499d-9942-c1d099131cd6"
   },
   "outputs": [],
   "source": [
    "calculateImportance(svr, X_train)"
   ]
  },
  {
   "cell_type": "markdown",
   "metadata": {
    "id": "Zv4Ww-NhldWI"
   },
   "source": [
    "## Clasificación con EAT"
   ]
  },
  {
   "cell_type": "code",
   "execution_count": null,
   "metadata": {
    "id": "J1-oVcFdldWU"
   },
   "outputs": [],
   "source": [
    "df_train = pd.read_csv(train_path)\n",
    "df_test = pd.read_csv(test_path)\n",
    "\n",
    "X_train = df_train.drop(['NR_T2'], axis=1).filter(regex='^EAT')\n",
    "y_train = df_train['NR_T2']\n",
    "X_test = df_test.drop(['NR_T2'], axis=1).filter(regex='^EAT')\n",
    "y_test = df_test['NR_T2']"
   ]
  },
  {
   "cell_type": "code",
   "execution_count": null,
   "metadata": {
    "colab": {
     "base_uri": "https://localhost:8080/"
    },
    "executionInfo": {
     "elapsed": 40204,
     "status": "ok",
     "timestamp": 1687244638518,
     "user": {
      "displayName": "Amaia Pikatza Huerga",
      "userId": "01223455995351985189"
     },
     "user_tz": -120
    },
    "id": "_HZmBK8XXJ2Y",
    "outputId": "82b2e3ad-ef47-4b81-9a33-3a25d389f240"
   },
   "outputs": [],
   "source": [
    "lr_pred, fit_intercept = linear_regresion(X_train, y_train, X_test, y_test)\n",
    "rr_pred = ransac_regression(X_train, y_train, X_test, y_test, fit_intercept)\n",
    "ts_red = theil_sen_regression(X_train, y_train, X_test, y_test)\n",
    "hr_pred = huber_regression(X_train, y_train, X_test, y_test)\n",
    "svr_pred, svr = svr_regression(X_train, y_train, X_test, y_test)\n",
    "xgb_pred = xgboost_regression(X_train, y_train, X_test, y_test)"
   ]
  },
  {
   "cell_type": "code",
   "execution_count": null,
   "metadata": {
    "id": "NowNhD2zldWX"
   },
   "outputs": [],
   "source": [
    "results.loc['EAT'] = [r2_score(y_test, lr_pred), r2_score(y_test, rr_pred), r2_score(y_test, ts_red),\n",
    "                           r2_score(y_test, hr_pred), r2_score(y_test, svr_pred), r2_score(y_test, xgb_pred)]"
   ]
  },
  {
   "cell_type": "markdown",
   "metadata": {
    "id": "c5l5OI6VmtRz"
   },
   "source": [
    "### Explainability"
   ]
  },
  {
   "cell_type": "code",
   "execution_count": null,
   "metadata": {
    "colab": {
     "base_uri": "https://localhost:8080/",
     "height": 1000
    },
    "executionInfo": {
     "elapsed": 519,
     "status": "ok",
     "timestamp": 1687244638953,
     "user": {
      "displayName": "Amaia Pikatza Huerga",
      "userId": "01223455995351985189"
     },
     "user_tz": -120
    },
    "id": "1ysxezhBmtRz",
    "outputId": "b39c2b9d-393a-43b4-eafb-e36cf1d553b4"
   },
   "outputs": [],
   "source": [
    "calculateImportance(svr, X_train)"
   ]
  },
  {
   "cell_type": "markdown",
   "metadata": {
    "id": "8ZPjU4UcmD6p"
   },
   "source": [
    "## Clasificación con RESI"
   ]
  },
  {
   "cell_type": "code",
   "execution_count": null,
   "metadata": {
    "id": "nFaKpmLAmD63"
   },
   "outputs": [],
   "source": [
    "df_train = pd.read_csv(train_path)\n",
    "df_test = pd.read_csv(test_path)\n",
    "\n",
    "X_train = df_train.drop(['NR_T2'], axis=1).filter(regex='^RESI[^_]')\n",
    "y_train = df_train['NR_T2']\n",
    "X_test = df_test.drop(['NR_T2'], axis=1).filter(regex='^RESI[^_]')\n",
    "y_test = df_test['NR_T2']"
   ]
  },
  {
   "cell_type": "code",
   "execution_count": null,
   "metadata": {
    "colab": {
     "base_uri": "https://localhost:8080/"
    },
    "executionInfo": {
     "elapsed": 108044,
     "status": "ok",
     "timestamp": 1687244746979,
     "user": {
      "displayName": "Amaia Pikatza Huerga",
      "userId": "01223455995351985189"
     },
     "user_tz": -120
    },
    "id": "QMJAXRdTXkh3",
    "outputId": "c9d27834-ee89-440d-a2cd-67f8f15090fc"
   },
   "outputs": [],
   "source": [
    "lr_pred, fit_intercept = linear_regresion(X_train, y_train, X_test, y_test)\n",
    "rr_pred = ransac_regression(X_train, y_train, X_test, y_test, fit_intercept)\n",
    "ts_red = theil_sen_regression(X_train, y_train, X_test, y_test)\n",
    "hr_pred = huber_regression(X_train, y_train, X_test, y_test)\n",
    "svr_pred, svr = svr_regression(X_train, y_train, X_test, y_test)\n",
    "xgb_pred = xgboost_regression(X_train, y_train, X_test, y_test)"
   ]
  },
  {
   "cell_type": "code",
   "execution_count": null,
   "metadata": {
    "id": "HHzPQwkNmD68"
   },
   "outputs": [],
   "source": [
    "results.loc['RESI'] = [r2_score(y_test, lr_pred), r2_score(y_test, rr_pred), r2_score(y_test, ts_red),\n",
    "                        r2_score(y_test, hr_pred), r2_score(y_test, svr_pred), r2_score(y_test, xgb_pred)]"
   ]
  },
  {
   "cell_type": "markdown",
   "metadata": {
    "id": "HquDRcQrmuDj"
   },
   "source": [
    "### Explainability"
   ]
  },
  {
   "cell_type": "code",
   "execution_count": null,
   "metadata": {
    "colab": {
     "base_uri": "https://localhost:8080/",
     "height": 1000
    },
    "executionInfo": {
     "elapsed": 944,
     "status": "ok",
     "timestamp": 1687244747821,
     "user": {
      "displayName": "Amaia Pikatza Huerga",
      "userId": "01223455995351985189"
     },
     "user_tz": -120
    },
    "id": "-Hg2Hld4muDj",
    "outputId": "68cdadb4-079a-4cf9-c407-d44a946d4bec"
   },
   "outputs": [],
   "source": [
    "calculateImportance(svr, X_train)"
   ]
  },
  {
   "cell_type": "markdown",
   "metadata": {
    "id": "kryKcEys9ePI"
   },
   "source": [
    "## Clasificación con RED-5"
   ]
  },
  {
   "cell_type": "code",
   "execution_count": null,
   "metadata": {
    "id": "B3w-3YRF9ePY"
   },
   "outputs": [],
   "source": [
    "df_train = pd.read_csv(train_path)\n",
    "df_test = pd.read_csv(test_path)\n",
    "\n",
    "X_train = df_train[['RESI16', 'RESI27', 'RESI28', 'RESI30', 'RESI31']]\n",
    "y_train = df_train['NR_T2']\n",
    "X_test = df_test[['RESI16', 'RESI27', 'RESI28', 'RESI30', 'RESI31']]\n",
    "y_test = df_test['NR_T2']"
   ]
  },
  {
   "cell_type": "code",
   "execution_count": null,
   "metadata": {
    "colab": {
     "base_uri": "https://localhost:8080/"
    },
    "executionInfo": {
     "elapsed": 8439,
     "status": "ok",
     "timestamp": 1687244756153,
     "user": {
      "displayName": "Amaia Pikatza Huerga",
      "userId": "01223455995351985189"
     },
     "user_tz": -120
    },
    "id": "VIGhHi_L9ePZ",
    "outputId": "378220f9-639b-49c1-9490-5de68ccf9234"
   },
   "outputs": [],
   "source": [
    "lr_pred, fit_intercept = linear_regresion(X_train, y_train, X_test, y_test)\n",
    "rr_pred = ransac_regression(X_train, y_train, X_test, y_test, fit_intercept)\n",
    "ts_red = theil_sen_regression(X_train, y_train, X_test, y_test)\n",
    "hr_pred = huber_regression(X_train, y_train, X_test, y_test)\n",
    "svr_pred, svr = svr_regression(X_train, y_train, X_test, y_test)\n",
    "xgb_pred = xgboost_regression(X_train, y_train, X_test, y_test)"
   ]
  },
  {
   "cell_type": "code",
   "execution_count": null,
   "metadata": {
    "id": "fu6SOSWS9ePa"
   },
   "outputs": [],
   "source": [
    "results.loc['RED5'] = [r2_score(y_test, lr_pred), r2_score(y_test, rr_pred), r2_score(y_test, ts_red),\n",
    "                        r2_score(y_test, hr_pred), r2_score(y_test, svr_pred), r2_score(y_test, xgb_pred)]"
   ]
  },
  {
   "cell_type": "markdown",
   "metadata": {
    "id": "U8V2jrkWmuwl"
   },
   "source": [
    "### Explainability"
   ]
  },
  {
   "cell_type": "code",
   "execution_count": null,
   "metadata": {
    "colab": {
     "base_uri": "https://localhost:8080/",
     "height": 1000
    },
    "executionInfo": {
     "elapsed": 408,
     "status": "ok",
     "timestamp": 1687244756497,
     "user": {
      "displayName": "Amaia Pikatza Huerga",
      "userId": "01223455995351985189"
     },
     "user_tz": -120
    },
    "id": "mPdA0l92muwn",
    "outputId": "d41ccae9-3772-4d81-e44c-15e57a93c7d0"
   },
   "outputs": [],
   "source": [
    "calculateImportance(svr, X_train)"
   ]
  },
  {
   "cell_type": "markdown",
   "metadata": {
    "id": "p9ky8nysoDfL"
   },
   "source": [
    "## Clasificación con SEIGOODDOING"
   ]
  },
  {
   "cell_type": "code",
   "execution_count": null,
   "metadata": {
    "id": "svgtsTxdoDfZ"
   },
   "outputs": [],
   "source": [
    "df_train = pd.read_csv(train_path)\n",
    "df_test = pd.read_csv(test_path)\n",
    "\n",
    "X_train = df_train.drop(['NR_T2'], axis=1).filter(regex='^SEIGOODDOING')\n",
    "y_train = df_train['NR_T2']\n",
    "X_test = df_test.drop(['NR_T2'], axis=1).filter(regex='^SEIGOODDOING')\n",
    "y_test = df_test['NR_T2']"
   ]
  },
  {
   "cell_type": "code",
   "execution_count": null,
   "metadata": {
    "colab": {
     "base_uri": "https://localhost:8080/"
    },
    "executionInfo": {
     "elapsed": 6196,
     "status": "ok",
     "timestamp": 1687244762681,
     "user": {
      "displayName": "Amaia Pikatza Huerga",
      "userId": "01223455995351985189"
     },
     "user_tz": -120
    },
    "id": "MhKalcsCXsU7",
    "outputId": "eaa70b45-b62f-47cd-85a7-72ad77c84a20"
   },
   "outputs": [],
   "source": [
    "lr_pred, fit_intercept = linear_regresion(X_train, y_train, X_test, y_test)\n",
    "rr_pred = ransac_regression(X_train, y_train, X_test, y_test, fit_intercept)\n",
    "ts_red = theil_sen_regression(X_train, y_train, X_test, y_test)\n",
    "hr_pred = huber_regression(X_train, y_train, X_test, y_test)\n",
    "svr_pred, svr = svr_regression(X_train, y_train, X_test, y_test)\n",
    "xgb_pred = xgboost_regression(X_train, y_train, X_test, y_test)"
   ]
  },
  {
   "cell_type": "code",
   "execution_count": null,
   "metadata": {
    "id": "apWMu4HkoDfe"
   },
   "outputs": [],
   "source": [
    "results.loc['SEIGOODDOING'] = [r2_score(y_test, lr_pred), r2_score(y_test, rr_pred), r2_score(y_test, ts_red),\n",
    "                           r2_score(y_test, hr_pred), r2_score(y_test, svr_pred), r2_score(y_test, xgb_pred)]"
   ]
  },
  {
   "cell_type": "markdown",
   "metadata": {
    "id": "3nBaymlbmwXi"
   },
   "source": [
    "### Explainability"
   ]
  },
  {
   "cell_type": "code",
   "execution_count": null,
   "metadata": {
    "colab": {
     "base_uri": "https://localhost:8080/",
     "height": 1000
    },
    "executionInfo": {
     "elapsed": 546,
     "status": "ok",
     "timestamp": 1687244763172,
     "user": {
      "displayName": "Amaia Pikatza Huerga",
      "userId": "01223455995351985189"
     },
     "user_tz": -120
    },
    "id": "s7cd-J6dmwXi",
    "outputId": "211f0f60-a4f5-461f-feb0-17b12f625f13"
   },
   "outputs": [],
   "source": [
    "calculateImportance(svr, X_train)"
   ]
  },
  {
   "cell_type": "markdown",
   "metadata": {
    "id": "8hBzn6vXoWD8"
   },
   "source": [
    "## Clasificación con RESI_ULT"
   ]
  },
  {
   "cell_type": "code",
   "execution_count": null,
   "metadata": {
    "id": "Tq9zhU4GoWEH"
   },
   "outputs": [],
   "source": [
    "df_train = pd.read_csv(train_path)\n",
    "df_test = pd.read_csv(test_path)\n",
    "\n",
    "X_train = df_train.drop(['NR_T2'], axis=1).filter(regex='^RESI_')\n",
    "y_train = df_train['NR_T2']\n",
    "X_test = df_test.drop(['NR_T2'], axis=1).filter(regex='^RESI_')\n",
    "y_test = df_test['NR_T2']"
   ]
  },
  {
   "cell_type": "code",
   "execution_count": null,
   "metadata": {
    "colab": {
     "base_uri": "https://localhost:8080/"
    },
    "executionInfo": {
     "elapsed": 39275,
     "status": "ok",
     "timestamp": 1687244802415,
     "user": {
      "displayName": "Amaia Pikatza Huerga",
      "userId": "01223455995351985189"
     },
     "user_tz": -120
    },
    "id": "GbVE8neCYBSw",
    "outputId": "3915afca-b056-4b46-ff7e-cb421b44837c"
   },
   "outputs": [],
   "source": [
    "lr_pred, fit_intercept = linear_regresion(X_train, y_train, X_test, y_test)\n",
    "rr_pred = ransac_regression(X_train, y_train, X_test, y_test, fit_intercept)\n",
    "ts_red = theil_sen_regression(X_train, y_train, X_test, y_test)\n",
    "hr_pred = huber_regression(X_train, y_train, X_test, y_test)\n",
    "svr_pred, svr = svr_regression(X_train, y_train, X_test, y_test)\n",
    "xgb_pred = xgboost_regression(X_train, y_train, X_test, y_test)"
   ]
  },
  {
   "cell_type": "code",
   "execution_count": null,
   "metadata": {
    "id": "XVLol9yPoWEK"
   },
   "outputs": [],
   "source": [
    "results.loc['RESI_ULT'] = [r2_score(y_test, lr_pred), r2_score(y_test, rr_pred), r2_score(y_test, ts_red),\n",
    "                           r2_score(y_test, hr_pred), r2_score(y_test, svr_pred), r2_score(y_test, xgb_pred)]"
   ]
  },
  {
   "cell_type": "markdown",
   "metadata": {
    "id": "MAfskG5YmxKI"
   },
   "source": [
    "### Explainability"
   ]
  },
  {
   "cell_type": "code",
   "execution_count": null,
   "metadata": {
    "colab": {
     "base_uri": "https://localhost:8080/",
     "height": 1000
    },
    "executionInfo": {
     "elapsed": 627,
     "status": "ok",
     "timestamp": 1687244802980,
     "user": {
      "displayName": "Amaia Pikatza Huerga",
      "userId": "01223455995351985189"
     },
     "user_tz": -120
    },
    "id": "yKBy1KjDmxKI",
    "outputId": "b4b00e21-98d6-4a97-ff50-5eb4c0840142"
   },
   "outputs": [],
   "source": [
    "calculateImportance(svr, X_train)"
   ]
  },
  {
   "cell_type": "markdown",
   "metadata": {
    "id": "96t0qDcjAS_G"
   },
   "source": [
    "## Visualización y guardado"
   ]
  },
  {
   "cell_type": "code",
   "execution_count": null,
   "metadata": {
    "colab": {
     "base_uri": "https://localhost:8080/",
     "height": 332
    },
    "executionInfo": {
     "elapsed": 116,
     "status": "ok",
     "timestamp": 1687244802981,
     "user": {
      "displayName": "Amaia Pikatza Huerga",
      "userId": "01223455995351985189"
     },
     "user_tz": -120
    },
    "id": "tb43gHMWAWEh",
    "outputId": "028e27c6-788d-4a6b-ca3b-f6149a2f75c2"
   },
   "outputs": [],
   "source": [
    "results"
   ]
  },
  {
   "cell_type": "code",
   "execution_count": null,
   "metadata": {
    "id": "a0zVrhar-BrG"
   },
   "outputs": [],
   "source": [
    "results.to_excel('resultados/resultadosNR.xlsx', index=True)\n",
    "# v1 solo linear regression r_score\n",
    "# v2 el resto que dijo almeida con r_score tambien\n",
    "# v3 con fit_intercept con r_score tambien\n",
    "# V4 CON RED5"
   ]
  },
  {
   "cell_type": "markdown",
   "metadata": {
    "id": "PAViOBOL-8nP"
   },
   "source": [
    "explainability variable individual\n",
    "- probar con los data generales"
   ]
  }
 ],
 "metadata": {
  "colab": {
   "authorship_tag": "ABX9TyO8G9KSRBQGfQBn84SW7RkX",
   "collapsed_sections": [
    "1C8sGOfqyYD-",
    "AKIqES35ycwA",
    "eymYMftLxRrc",
    "KXMWxYrV7Tfu",
    "ZizcheImkUVI",
    "QNO31yNglM0i",
    "Zv4Ww-NhldWI",
    "8ZPjU4UcmD6p",
    "p9ky8nysoDfL",
    "8hBzn6vXoWD8"
   ],
   "gpuType": "T4",
   "provenance": [],
   "toc_visible": true
  },
  "gpuClass": "standard",
  "kernelspec": {
   "display_name": "venv",
   "language": "python",
   "name": "python3"
  },
  "language_info": {
   "codemirror_mode": {
    "name": "ipython",
    "version": 3
   },
   "file_extension": ".py",
   "mimetype": "text/x-python",
   "name": "python",
   "nbconvert_exporter": "python",
   "pygments_lexer": "ipython3",
   "version": "3.12.7"
  }
 },
 "nbformat": 4,
 "nbformat_minor": 0
}
