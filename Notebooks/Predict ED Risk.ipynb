{
 "cells": [
  {
   "cell_type": "code",
   "execution_count": null,
   "metadata": {
    "executionInfo": {
     "elapsed": 776,
     "status": "ok",
     "timestamp": 1687251927881,
     "user": {
      "displayName": "Amaia Pikatza Huerga",
      "userId": "01223455995351985189"
     },
     "user_tz": -120
    },
    "id": "eubWFvbCkwO-"
   },
   "outputs": [],
   "source": [
    "import pandas as pd\n",
    "import numpy as np\n",
    "import joblib"
   ]
  },
  {
   "cell_type": "code",
   "execution_count": null,
   "metadata": {
    "executionInfo": {
     "elapsed": 21,
     "status": "ok",
     "timestamp": 1687251952923,
     "user": {
      "displayName": "Amaia Pikatza Huerga",
      "userId": "01223455995351985189"
     },
     "user_tz": -120
    },
    "id": "Xrd15snN4PJI"
   },
   "outputs": [],
   "source": [
    "import warnings\n",
    "warnings.filterwarnings(\"ignore\")"
   ]
  },
  {
   "cell_type": "code",
   "execution_count": null,
   "metadata": {
    "executionInfo": {
     "elapsed": 20,
     "status": "ok",
     "timestamp": 1687251952924,
     "user": {
      "displayName": "Amaia Pikatza Huerga",
      "userId": "01223455995351985189"
     },
     "user_tz": -120
    },
    "id": "WsefuCo18Q3b"
   },
   "outputs": [],
   "source": [
    "train_path='datos/trainEAT.csv'\n",
    "test_path='datos/testEAT.csv'"
   ]
  },
  {
   "cell_type": "markdown",
   "metadata": {
    "id": "1C8sGOfqyYD-"
   },
   "source": [
    "# Obtener dataset"
   ]
  },
  {
   "cell_type": "code",
   "execution_count": null,
   "metadata": {
    "id": "3o3hbcs5lGTQ"
   },
   "outputs": [],
   "source": [
    "df_gen = pd.read_csv('datos/TCA_general.csv')\n",
    "df_T1 = pd.read_csv('datos/TCA_T1.csv')\n",
    "df_T2 = pd.read_csv('datos/TCA_T2.csv')"
   ]
  },
  {
   "cell_type": "code",
   "execution_count": null,
   "metadata": {
    "colab": {
     "base_uri": "https://localhost:8080/"
    },
    "executionInfo": {
     "elapsed": 240,
     "status": "ok",
     "timestamp": 1685608268783,
     "user": {
      "displayName": "Amaia Pikatza Huerga",
      "userId": "01223455995351985189"
     },
     "user_tz": -120
    },
    "id": "QjWDk975l8dE",
    "outputId": "46023377-8bdb-4dae-f073-b8622b80cc60"
   },
   "outputs": [],
   "source": [
    "y = df_T2.filter(like='EAT')\n",
    "for column in y.columns:\n",
    "  y[column] = pd.to_numeric(y[column], errors='coerce')\n",
    "y = y.sum(axis=1)\n",
    "y = np.where(y > 20, 1, 0)\n",
    "y"
   ]
  },
  {
   "cell_type": "code",
   "execution_count": null,
   "metadata": {
    "id": "qyorlJMaqTkJ"
   },
   "outputs": [],
   "source": [
    "df = df_T1"
   ]
  },
  {
   "cell_type": "code",
   "execution_count": null,
   "metadata": {
    "id": "OJ84qXkAqoQZ"
   },
   "outputs": [],
   "source": [
    "df = df.drop(['ID', 'FECHA', 'EDAD', 'DIAGNOSTICO', 'OTROSDIAG', 'FECHAALTA', 'NINGUNOTRODIAG', 'ANSIEDAD', 'DEPRESIÓN', 'TPERSO', 'TBIPOLAR', 'TPSICOTICO', 'OtrosdiagnósticosademásdelTCA_B', 'MEDICACION1', 'MEDICACION2', 'MEDICACION3'], axis=1)\n",
    "import re\n",
    "\n",
    "regex = re.compile(r'SEIQOLCUE')\n",
    "df = df.drop(list(filter(regex.search, df.columns)), axis=1)\n",
    "\n",
    "regex = re.compile(r'SEIRANK')\n",
    "df = df.drop(list(filter(regex.search, df.columns)), axis=1)\n",
    "\n",
    "regex = re.compile(r'RESI2coment')\n",
    "df = df.drop(list(filter(regex.search, df.columns)), axis=1)"
   ]
  },
  {
   "cell_type": "code",
   "execution_count": null,
   "metadata": {
    "id": "I1eUgFfTvSTj"
   },
   "outputs": [],
   "source": [
    "df['labels'] = y"
   ]
  },
  {
   "cell_type": "code",
   "execution_count": null,
   "metadata": {
    "id": "lJQUdOlQ8BA8"
   },
   "outputs": [],
   "source": [
    "for column in df.columns:\n",
    "    df[column] = df[column].replace(' ', '', regex=True).replace('', np.nan).astype(float)"
   ]
  },
  {
   "cell_type": "code",
   "execution_count": null,
   "metadata": {
    "id": "-c--aBve0clF"
   },
   "outputs": [],
   "source": [
    "for column in df_gen.columns:\n",
    "    df_gen[column] = df_gen[column].replace(' ', '', regex=True).replace('', np.nan)"
   ]
  },
  {
   "cell_type": "code",
   "execution_count": null,
   "metadata": {
    "colab": {
     "base_uri": "https://localhost:8080/"
    },
    "executionInfo": {
     "elapsed": 5,
     "status": "ok",
     "timestamp": 1685608275143,
     "user": {
      "displayName": "Amaia Pikatza Huerga",
      "userId": "01223455995351985189"
     },
     "user_tz": -120
    },
    "id": "wo22TyTJ1znP",
    "outputId": "a73f5707-1629-4e89-f778-0333ee815dcf"
   },
   "outputs": [],
   "source": [
    "df_gen[['AÑOSPADECIENDO','AÑOSTTO','EDADCOMIENZO']].info()"
   ]
  },
  {
   "cell_type": "code",
   "execution_count": null,
   "metadata": {
    "id": "h1xB4x4_UXha"
   },
   "outputs": [],
   "source": [
    "df.fillna(2, inplace=True)"
   ]
  },
  {
   "cell_type": "code",
   "execution_count": null,
   "metadata": {
    "colab": {
     "base_uri": "https://localhost:8080/"
    },
    "executionInfo": {
     "elapsed": 5,
     "status": "ok",
     "timestamp": 1685608278667,
     "user": {
      "displayName": "Amaia Pikatza Huerga",
      "userId": "01223455995351985189"
     },
     "user_tz": -120
    },
    "id": "0vrbCg7d21Zs",
    "outputId": "e725804d-1acc-4396-a6b8-eca1eb1de7c5"
   },
   "outputs": [],
   "source": [
    "df['EDAD'] = df_T1['EDAD'].replace(' ', '', regex=True).replace('', np.nan).astype(float)\n",
    "df.dropna(inplace=True)\n",
    "df.reset_index(drop=True, inplace=True)\n",
    "df.info()"
   ]
  },
  {
   "cell_type": "code",
   "execution_count": null,
   "metadata": {
    "colab": {
     "base_uri": "https://localhost:8080/"
    },
    "executionInfo": {
     "elapsed": 223,
     "status": "ok",
     "timestamp": 1685608282420,
     "user": {
      "displayName": "Amaia Pikatza Huerga",
      "userId": "01223455995351985189"
     },
     "user_tz": -120
    },
    "id": "zyLCx-Sy0rtZ",
    "outputId": "7dc7f191-f5b7-465e-8ef8-4973fd5f2762"
   },
   "outputs": [],
   "source": [
    "conteo_clases = df['labels'].value_counts()\n",
    "\n",
    "print(conteo_clases)"
   ]
  },
  {
   "cell_type": "code",
   "execution_count": null,
   "metadata": {
    "id": "TFF1IM-cwQ8s"
   },
   "outputs": [],
   "source": [
    "from sklearn.preprocessing import MinMaxScaler\n",
    "\n",
    "X = df.drop(['labels'], axis=1)\n",
    "\n",
    "# Crea un objeto MinMaxScaler\n",
    "scaler = MinMaxScaler()\n",
    "\n",
    "# Escala los valores de las características en el rango [0, 1]\n",
    "X = scaler.fit_transform(X)\n",
    "\n",
    "# Convertir la matriz X a un DataFrame\n",
    "df_scaled = pd.DataFrame(X, columns=df.columns[:-1])\n",
    "\n",
    "# Añadir la columna 'labels' al DataFrame escalado\n",
    "df_scaled['labels'] = df['labels']"
   ]
  },
  {
   "cell_type": "code",
   "execution_count": null,
   "metadata": {
    "id": "YVIUoqYnEhM8"
   },
   "outputs": [],
   "source": [
    "df_scaled.to_csv('datos/EAT.csv')"
   ]
  },
  {
   "cell_type": "code",
   "execution_count": null,
   "metadata": {
    "colab": {
     "base_uri": "https://localhost:8080/"
    },
    "executionInfo": {
     "elapsed": 12,
     "status": "ok",
     "timestamp": 1685450449671,
     "user": {
      "displayName": "Amaia Pikatza Huerga",
      "userId": "01223455995351985189"
     },
     "user_tz": -120
    },
    "id": "Rvpx1zm8YkDE",
    "outputId": "a8353b4e-4fa8-41c5-cd24-3e82f005ff25"
   },
   "outputs": [],
   "source": [
    "conteo_clases = df_scaled['labels'].value_counts()\n",
    "\n",
    "print(conteo_clases)"
   ]
  },
  {
   "cell_type": "code",
   "execution_count": null,
   "metadata": {
    "id": "2rxG7gGHKwP5"
   },
   "outputs": [],
   "source": [
    "from sklearn.model_selection import train_test_split\n",
    "\n",
    "train_test_ratio = 0.8\n",
    "df_train, df_test = train_test_split(df_scaled, train_size = train_test_ratio, stratify=df_scaled['labels'], random_state = 1)"
   ]
  },
  {
   "cell_type": "code",
   "execution_count": null,
   "metadata": {
    "colab": {
     "base_uri": "https://localhost:8080/"
    },
    "executionInfo": {
     "elapsed": 11,
     "status": "ok",
     "timestamp": 1685450450024,
     "user": {
      "displayName": "Amaia Pikatza Huerga",
      "userId": "01223455995351985189"
     },
     "user_tz": -120
    },
    "id": "77HX4wEo8NPN",
    "outputId": "7df3e470-5f5b-4beb-e1f3-27413e39bc30"
   },
   "outputs": [],
   "source": [
    "df_train.info()"
   ]
  },
  {
   "cell_type": "code",
   "execution_count": null,
   "metadata": {
    "colab": {
     "base_uri": "https://localhost:8080/"
    },
    "executionInfo": {
     "elapsed": 11,
     "status": "ok",
     "timestamp": 1685450450025,
     "user": {
      "displayName": "Amaia Pikatza Huerga",
      "userId": "01223455995351985189"
     },
     "user_tz": -120
    },
    "id": "IhlGQ3wo8Ud_",
    "outputId": "c3a63da8-e424-41a1-8ccb-9b3c95c940de"
   },
   "outputs": [],
   "source": [
    "df_test.info()"
   ]
  },
  {
   "cell_type": "code",
   "execution_count": null,
   "metadata": {
    "id": "g5itBVoPwgDv"
   },
   "outputs": [],
   "source": [
    "df_train.to_csv(train_path)\n",
    "df_test.to_csv(test_path)"
   ]
  },
  {
   "cell_type": "markdown",
   "metadata": {
    "id": "AKIqES35ycwA"
   },
   "source": [
    "# Análisis del dataset"
   ]
  },
  {
   "cell_type": "code",
   "execution_count": null,
   "metadata": {
    "colab": {
     "base_uri": "https://localhost:8080/"
    },
    "executionInfo": {
     "elapsed": 103,
     "status": "ok",
     "timestamp": 1684491198040,
     "user": {
      "displayName": "Amaia Pikatza Huerga",
      "userId": "01223455995351985189"
     },
     "user_tz": -120
    },
    "id": "vSeyIEs_vZSs",
    "outputId": "64e71c51-fcf8-4600-9133-b2bf43afe928"
   },
   "outputs": [],
   "source": [
    "df.info()"
   ]
  },
  {
   "cell_type": "code",
   "execution_count": null,
   "metadata": {
    "colab": {
     "base_uri": "https://localhost:8080/"
    },
    "executionInfo": {
     "elapsed": 98,
     "status": "ok",
     "timestamp": 1684491198041,
     "user": {
      "displayName": "Amaia Pikatza Huerga",
      "userId": "01223455995351985189"
     },
     "user_tz": -120
    },
    "id": "TN8IX8MRvaah",
    "outputId": "1ead279b-e9e2-4787-80e5-7e4e61c85fd9"
   },
   "outputs": [],
   "source": [
    "df.dtypes"
   ]
  },
  {
   "cell_type": "code",
   "execution_count": null,
   "metadata": {
    "colab": {
     "base_uri": "https://localhost:8080/",
     "height": 394
    },
    "executionInfo": {
     "elapsed": 1679,
     "status": "ok",
     "timestamp": 1684833081589,
     "user": {
      "displayName": "Amaia Pikatza Huerga",
      "userId": "01223455995351985189"
     },
     "user_tz": -120
    },
    "id": "9aa6pVKA8dSY",
    "outputId": "0dfde5ec-bea9-4772-ff49-56e7e2f2575e"
   },
   "outputs": [],
   "source": [
    "df.describe()"
   ]
  },
  {
   "cell_type": "code",
   "execution_count": null,
   "metadata": {
    "colab": {
     "base_uri": "https://localhost:8080/"
    },
    "executionInfo": {
     "elapsed": 1786,
     "status": "ok",
     "timestamp": 1684833091169,
     "user": {
      "displayName": "Amaia Pikatza Huerga",
      "userId": "01223455995351985189"
     },
     "user_tz": -120
    },
    "id": "KSIqNafEvqVM",
    "outputId": "2245cfb5-d381-46a1-d2ee-a14b7a05e251"
   },
   "outputs": [],
   "source": [
    "df.isna().sum()"
   ]
  },
  {
   "cell_type": "code",
   "execution_count": null,
   "metadata": {
    "id": "KLEBjtcxwClm"
   },
   "outputs": [],
   "source": [
    "df = df.dropna()"
   ]
  },
  {
   "cell_type": "code",
   "execution_count": null,
   "metadata": {
    "colab": {
     "base_uri": "https://localhost:8080/"
    },
    "executionInfo": {
     "elapsed": 12,
     "status": "ok",
     "timestamp": 1684833103380,
     "user": {
      "displayName": "Amaia Pikatza Huerga",
      "userId": "01223455995351985189"
     },
     "user_tz": -120
    },
    "id": "1NN7Fj3vwFBb",
    "outputId": "a1e1c771-4546-4de5-fc60-f4aa998c5299"
   },
   "outputs": [],
   "source": [
    "df.info()"
   ]
  },
  {
   "cell_type": "code",
   "execution_count": null,
   "metadata": {
    "colab": {
     "base_uri": "https://localhost:8080/"
    },
    "executionInfo": {
     "elapsed": 12,
     "status": "ok",
     "timestamp": 1684833107832,
     "user": {
      "displayName": "Amaia Pikatza Huerga",
      "userId": "01223455995351985189"
     },
     "user_tz": -120
    },
    "id": "63gICKhawHpf",
    "outputId": "ff5c1fe7-bcda-4e88-972a-ec6bc0ddee2f"
   },
   "outputs": [],
   "source": [
    "df.isna().sum()"
   ]
  },
  {
   "cell_type": "code",
   "execution_count": null,
   "metadata": {
    "colab": {
     "base_uri": "https://localhost:8080/",
     "height": 1000
    },
    "executionInfo": {
     "elapsed": 33872,
     "status": "ok",
     "timestamp": 1684491231830,
     "user": {
      "displayName": "Amaia Pikatza Huerga",
      "userId": "01223455995351985189"
     },
     "user_tz": -120
    },
    "id": "J14CELum8lPF",
    "outputId": "43c2b2c1-fea3-4da9-94d2-77690c53a4a2"
   },
   "outputs": [],
   "source": [
    "df.hist(layout=(120, 4), figsize=(10,80));"
   ]
  },
  {
   "cell_type": "code",
   "execution_count": null,
   "metadata": {
    "colab": {
     "base_uri": "https://localhost:8080/"
    },
    "executionInfo": {
     "elapsed": 78,
     "status": "ok",
     "timestamp": 1684491231865,
     "user": {
      "displayName": "Amaia Pikatza Huerga",
      "userId": "01223455995351985189"
     },
     "user_tz": -120
    },
    "id": "5GWWqZYgBVfl",
    "outputId": "1ea270e3-bd07-456a-c58c-a7a5e2cd9fd7"
   },
   "outputs": [],
   "source": [
    "# Compute correlation matrix\n",
    "corr_matrix = df.corr()\n",
    "\n",
    "# Find columns and indices where correlation coefficient is 1 or -1\n",
    "corr_coeff_1_or_minus_1 = corr_matrix\n",
    "correlation_pairs = []\n",
    "\n",
    "# Iterate over the rows of the correlation matrix\n",
    "for row in corr_coeff_1_or_minus_1.iterrows():\n",
    "    col = row[0]\n",
    "    corr_coeff = row[1].dropna()\n",
    "    for index, value in corr_coeff.items():\n",
    "        correlation_pairs.append((col, index, value))\n",
    "\n",
    "# Display the correlated column pairs with correlation coefficient of 1 or -1\n",
    "for pair in correlation_pairs:\n",
    "    col1, col2, corr_coeff = pair\n",
    "    if (corr_coeff > 0.9 or corr_coeff < -0.9) and col1 != col2:\n",
    "      print(\"Column '{}' has correlation coefficient {} with column '{}'\".format(col1, corr_coeff, col2))\n"
   ]
  },
  {
   "cell_type": "code",
   "execution_count": null,
   "metadata": {
    "colab": {
     "base_uri": "https://localhost:8080/",
     "height": 558
    },
    "executionInfo": {
     "elapsed": 1002,
     "status": "ok",
     "timestamp": 1684491232796,
     "user": {
      "displayName": "Amaia Pikatza Huerga",
      "userId": "01223455995351985189"
     },
     "user_tz": -120
    },
    "id": "XU4KmpH0DVvt",
    "outputId": "9b551172-ea2b-4fc4-f3cd-ca03ca645d1e"
   },
   "outputs": [],
   "source": [
    "import seaborn as sns\n",
    "import matplotlib.pyplot as plt\n",
    "\n",
    "correlation = df.corr()\n",
    "\n",
    "# Create a heatmap with Seaborn\n",
    "sns.heatmap(correlation, cmap=\"RdYlGn\")\n",
    "\n",
    "# Show the plot\n",
    "plt.title(\"Correlation Matrix\")\n",
    "plt.show()"
   ]
  },
  {
   "cell_type": "markdown",
   "metadata": {
    "id": "_GjfLsFqB8Jt"
   },
   "source": [
    "# Modelos"
   ]
  },
  {
   "cell_type": "code",
   "execution_count": null,
   "metadata": {
    "executionInfo": {
     "elapsed": 3142,
     "status": "ok",
     "timestamp": 1687251956048,
     "user": {
      "displayName": "Amaia Pikatza Huerga",
      "userId": "01223455995351985189"
     },
     "user_tz": -120
    },
    "id": "vbeYFiL81g_A"
   },
   "outputs": [],
   "source": [
    "# Importar las bibliotecas necesarias\n",
    "import pandas as pd\n",
    "from sklearn.inspection import permutation_importance\n",
    "from sklearn.linear_model import LogisticRegression\n",
    "from sklearn.tree import DecisionTreeClassifier\n",
    "from sklearn.model_selection import GridSearchCV\n",
    "from sklearn.svm import SVC\n",
    "from sklearn.neural_network import MLPClassifier\n",
    "from sklearn.neighbors import KNeighborsClassifier\n",
    "from sklearn.metrics import accuracy_score, roc_auc_score, confusion_matrix, precision_score, recall_score, f1_score\n",
    "from sklearn.preprocessing import MinMaxScaler\n",
    "from sklearn.ensemble import RandomForestClassifier, GradientBoostingClassifier\n",
    "from sklearn.naive_bayes import GaussianNB"
   ]
  },
  {
   "cell_type": "markdown",
   "metadata": {
    "id": "YeakkSiACPsp"
   },
   "source": [
    "### Regresión logística"
   ]
  },
  {
   "cell_type": "code",
   "execution_count": null,
   "metadata": {
    "executionInfo": {
     "elapsed": 24,
     "status": "ok",
     "timestamp": 1687251956049,
     "user": {
      "displayName": "Amaia Pikatza Huerga",
      "userId": "01223455995351985189"
     },
     "user_tz": -120
    },
    "id": "GgdpTNh5CPs0"
   },
   "outputs": [],
   "source": [
    "def logistic_regresion(X_train, y_train, X_test, y_test):\n",
    "  # Definir el rango de valores de los hiperparámetros a probar\n",
    "  param_grid = {'C': [0.01, 0.1, 1, 10, 100]}\n",
    "\n",
    "  # Definir el modelo\n",
    "  lr = LogisticRegression()\n",
    "\n",
    "  # Realizar la optimización de hiperparámetros utilizando GridSearchCV y validación cruzada\n",
    "  grid = GridSearchCV(lr, param_grid, cv=5)\n",
    "  grid.fit(X_train, y_train)\n",
    "\n",
    "  # Imprimir los mejores valores de los hiperparámetros\n",
    "  print(\"Mejores hiperparámetros: \", grid.best_params_)\n",
    "\n",
    "  # Evaluar el modelo con los mejores hiperparámetros\n",
    "  lr_best = LogisticRegression(C=grid.best_params_['C'])\n",
    "  lr_best.fit(X_train, y_train)\n",
    "  lr_pred = lr_best.predict(X_test)\n",
    "  print(\"Precisión de regresión logística con los mejores hiperparámetros:\", accuracy_score(y_test, lr_pred))\n",
    "\n",
    "  return lr_pred"
   ]
  },
  {
   "cell_type": "markdown",
   "metadata": {
    "id": "2981N1wHCPs0"
   },
   "source": [
    "### Árbol de decisión"
   ]
  },
  {
   "cell_type": "code",
   "execution_count": null,
   "metadata": {
    "executionInfo": {
     "elapsed": 23,
     "status": "ok",
     "timestamp": 1687251956050,
     "user": {
      "displayName": "Amaia Pikatza Huerga",
      "userId": "01223455995351985189"
     },
     "user_tz": -120
    },
    "id": "b2p-OqLRCPs1"
   },
   "outputs": [],
   "source": [
    "def decision_tree(X_train, y_train, X_test, y_test):\n",
    "  # Definir el rango de valores de los hiperparámetros a probar\n",
    "  param_grid = {'max_depth': [2, 4, 6, 8, 10],\n",
    "                'min_samples_split': [2, 4, 6, 8, 10]}\n",
    "\n",
    "  # Definir el modelo\n",
    "  dt = DecisionTreeClassifier()\n",
    "\n",
    "  # Realizar la optimización de hiperparámetros utilizando GridSearchCV y validación cruzada\n",
    "  grid = GridSearchCV(dt, param_grid, cv=5)\n",
    "  grid.fit(X_train, y_train)\n",
    "\n",
    "  # Imprimir los mejores valores de los hiperparámetros\n",
    "  print(\"Mejores hiperparámetros: \", grid.best_params_)\n",
    "\n",
    "  # Evaluar el modelo con los mejores hiperparámetros\n",
    "  dt_best = DecisionTreeClassifier(max_depth=grid.best_params_['max_depth'],\n",
    "                                    min_samples_split=grid.best_params_['min_samples_split'])\n",
    "  dt_best.fit(X_train, y_train)\n",
    "  dt_pred = dt_best.predict(X_test)\n",
    "  print(\"Precisión del árbol de decisión con los mejores hiperparámetros:\", accuracy_score(y_test, dt_pred))\n",
    "\n",
    "  return dt_pred"
   ]
  },
  {
   "cell_type": "markdown",
   "metadata": {
    "id": "RSh_riNrCPs1"
   },
   "source": [
    "### SVM"
   ]
  },
  {
   "cell_type": "code",
   "execution_count": null,
   "metadata": {
    "executionInfo": {
     "elapsed": 19,
     "status": "ok",
     "timestamp": 1687251956051,
     "user": {
      "displayName": "Amaia Pikatza Huerga",
      "userId": "01223455995351985189"
     },
     "user_tz": -120
    },
    "id": "bmp_r8eBCPs1"
   },
   "outputs": [],
   "source": [
    "def svm(X_train, y_train, X_test, y_test):\n",
    "  # Definir el rango de valores de los hiperparámetros a probar\n",
    "  param_grid = {'C': [0.1, 1, 10, 100], 'gamma': [0.1, 1, 10, 100]}\n",
    "\n",
    "  # Definir el modelo\n",
    "  svm = SVC()\n",
    "\n",
    "  # Realizar la optimización de hiperparámetros utilizando GridSearchCV y validación cruzada\n",
    "  grid = GridSearchCV(svm, param_grid, cv=5)\n",
    "  grid.fit(X_train, y_train)\n",
    "\n",
    "  # Imprimir los mejores valores de los hiperparámetros\n",
    "  print(\"Mejores hiperparámetros: \", grid.best_params_)\n",
    "\n",
    "  # Evaluar el modelo con los mejores hiperparámetros\n",
    "  svm_best = SVC(C=grid.best_params_['C'], gamma=grid.best_params_['gamma'])\n",
    "  svm_best.fit(X_train, y_train)\n",
    "  svm_pred = svm_best.predict(X_test)\n",
    "  print(\"Precisión de SVM con los mejores hiperparámetros:\", accuracy_score(y_test, svm_pred))\n",
    "\n",
    "  return svm_pred"
   ]
  },
  {
   "cell_type": "markdown",
   "metadata": {
    "id": "dExCwtrdCPs2"
   },
   "source": [
    "### Redes neuronales"
   ]
  },
  {
   "cell_type": "code",
   "execution_count": null,
   "metadata": {
    "executionInfo": {
     "elapsed": 19,
     "status": "ok",
     "timestamp": 1687251956052,
     "user": {
      "displayName": "Amaia Pikatza Huerga",
      "userId": "01223455995351985189"
     },
     "user_tz": -120
    },
    "id": "fJrUqscoCPs2"
   },
   "outputs": [],
   "source": [
    "def neural_network(X_train, y_train, X_test, y_test):\n",
    "  # Definir el rango de valores de los hiperparámetros a probar\n",
    "  param_grid = {'hidden_layer_sizes': [(10,), (50,), (100,)],\n",
    "                'activation': ['relu', 'logistic'],\n",
    "                'learning_rate': ['constant', 'adaptive']}\n",
    "\n",
    "  # Definir el modelo\n",
    "  nn = MLPClassifier()\n",
    "\n",
    "  # Realizar la optimización de hiperparámetros utilizando GridSearchCV y validación cruzada\n",
    "  grid = GridSearchCV(nn, param_grid, cv=5)\n",
    "  grid.fit(X_train, y_train)\n",
    "\n",
    "  # Imprimir los mejores valores de los hiperparámetros\n",
    "  print(\"Mejores hiperparámetros: \", grid.best_params_)\n",
    "\n",
    "  # Evaluar el modelo con los mejores hiperparámetros\n",
    "  nn_best = MLPClassifier(hidden_layer_sizes=grid.best_params_['hidden_layer_sizes'],\n",
    "                          activation=grid.best_params_['activation'],\n",
    "                          learning_rate=grid.best_params_['learning_rate'])\n",
    "  nn_best.fit(X_train, y_train)\n",
    "  nn_pred = nn_best.predict(X_test)\n",
    "  print(\"Precisión de redes neuronales con los mejores hiperparámetros:\", accuracy_score(y_test, nn_pred))\n",
    "\n",
    "  return nn_pred"
   ]
  },
  {
   "cell_type": "markdown",
   "metadata": {
    "id": "nQV_nik0CPs2"
   },
   "source": [
    "### KNN"
   ]
  },
  {
   "cell_type": "code",
   "execution_count": null,
   "metadata": {
    "executionInfo": {
     "elapsed": 19,
     "status": "ok",
     "timestamp": 1687251956053,
     "user": {
      "displayName": "Amaia Pikatza Huerga",
      "userId": "01223455995351985189"
     },
     "user_tz": -120
    },
    "id": "v1cbU-k4CPs2"
   },
   "outputs": [],
   "source": [
    "def k_neighbors(X_train, y_train, X_test, y_test):\n",
    "  # Definimos los posibles valores de los hiperparámetros que queremos probar\n",
    "  param_grid = {'n_neighbors': [3, 5, 7],\n",
    "                'weights': ['uniform', 'distance'],\n",
    "                'p': [1, 2]}\n",
    "\n",
    "  # Creamos el objeto GridSearchCV y lo ajustamos con los datos de entrenamiento\n",
    "  knn = KNeighborsClassifier()\n",
    "  grid_search = GridSearchCV(knn, param_grid=param_grid, cv=5)\n",
    "  grid_search.fit(X_train, y_train)\n",
    "\n",
    "  # Imprimimos los mejores valores de los hiperparámetros encontrados y la precisión correspondiente\n",
    "  print(\"Mejores hiperparámetros: \", grid_search.best_params_)\n",
    "\n",
    "  # Evaluar el modelo con los mejores hiperparámetros\n",
    "  knn_best = KNeighborsClassifier(n_neighbors=grid_search.best_params_['n_neighbors'],\n",
    "                          weights=grid_search.best_params_['weights'],\n",
    "                          p=grid_search.best_params_['p'])\n",
    "  knn_best.fit(X_train, y_train)\n",
    "  knn_pred = knn_best.predict(X_test)\n",
    "  print(\"Precisión de KNN:\", accuracy_score(y_test, knn_pred))\n",
    "\n",
    "  return knn_pred"
   ]
  },
  {
   "cell_type": "markdown",
   "metadata": {
    "id": "yezkbnVWCPs3"
   },
   "source": [
    "### Random forest"
   ]
  },
  {
   "cell_type": "code",
   "execution_count": null,
   "metadata": {
    "executionInfo": {
     "elapsed": 18,
     "status": "ok",
     "timestamp": 1687251956053,
     "user": {
      "displayName": "Amaia Pikatza Huerga",
      "userId": "01223455995351985189"
     },
     "user_tz": -120
    },
    "id": "Y9sEK1cnCPs3"
   },
   "outputs": [],
   "source": [
    "def random_forest(X_train, y_train, X_test, y_test):\n",
    "  # Definimos los posibles valores de los hiperparámetros que queremos probar\n",
    "  param_grid = {'n_estimators': [100, 200, 500],\n",
    "                'max_depth': [5, 10, 20],\n",
    "                'min_samples_split': [2, 5, 10],\n",
    "                'min_samples_leaf': [1, 2, 4]}\n",
    "\n",
    "  # Creamos el objeto GridSearchCV y lo ajustamos con los datos de entrenamiento\n",
    "  rf = RandomForestClassifier()\n",
    "  grid_search = GridSearchCV(rf, param_grid=param_grid, cv=5)\n",
    "  grid_search.fit(X_train, y_train)\n",
    "\n",
    "  # Imprimimos los mejores valores de los hiperparámetros encontrados\n",
    "  print(\"Mejores hiperparámetros: \", grid_search.best_params_)\n",
    "\n",
    "  # Evaluar el modelo con los mejores hiperparámetros\n",
    "  rf_best = RandomForestClassifier(n_estimators=grid_search.best_params_['n_estimators'],\n",
    "                          max_depth=grid_search.best_params_['max_depth'],\n",
    "                          min_samples_split=grid_search.best_params_['min_samples_split'],\n",
    "                          min_samples_leaf=grid_search.best_params_['min_samples_leaf'])\n",
    "  rf_best.fit(X_train, y_train)\n",
    "  rf_pred = rf_best.predict(X_test)\n",
    "  print(\"Precisión de Random Forest:\", accuracy_score(y_test, rf_pred))\n",
    "\n",
    "  return rf_pred"
   ]
  },
  {
   "cell_type": "markdown",
   "metadata": {
    "id": "FdRPJaBoCPs4"
   },
   "source": [
    "### Gradient Boosting"
   ]
  },
  {
   "cell_type": "code",
   "execution_count": null,
   "metadata": {
    "executionInfo": {
     "elapsed": 19,
     "status": "ok",
     "timestamp": 1687251956054,
     "user": {
      "displayName": "Amaia Pikatza Huerga",
      "userId": "01223455995351985189"
     },
     "user_tz": -120
    },
    "id": "pR-w3XW8CPs5"
   },
   "outputs": [],
   "source": [
    "def gradient_boosting(X_train, y_train, X_test, y_test):\n",
    "  # Definimos los posibles valores de los hiperparámetros que queremos probar\n",
    "  param_grid = {'n_estimators': [100, 200, 500],\n",
    "                'learning_rate': [0.01, 0.1, 1],\n",
    "                'max_depth': [3, 5, 10],\n",
    "                'min_samples_split': [2, 5, 10],\n",
    "                'min_samples_leaf': [1, 2, 4]}\n",
    "\n",
    "  # Creamos el objeto GridSearchCV y lo ajustamos con los datos de entrenamiento\n",
    "  gb = GradientBoostingClassifier()\n",
    "  grid_search = GridSearchCV(gb, param_grid=param_grid, cv=5)\n",
    "  grid_search.fit(X_train, y_train)\n",
    "\n",
    "  # Imprimimos los mejores valores de los hiperparámetros encontrados\n",
    "  print(\"Mejores hiperparámetros: \", grid_search.best_params_)\n",
    "\n",
    "  # Evaluar el modelo con los mejores hiperparámetros\n",
    "  gb_best = GradientBoostingClassifier(n_estimators=grid_search.best_params_['n_estimators'],\n",
    "                          learning_rate=grid_search.best_params_['learning_rate'],\n",
    "                          max_depth=grid_search.best_params_['max_depth'],\n",
    "                          min_samples_split=grid_search.best_params_['min_samples_split'],\n",
    "                          min_samples_leaf=grid_search.best_params_['min_samples_leaf'])\n",
    "  gb_best.fit(X_train, y_train)\n",
    "  gb_pred = gb_best.predict(X_test)\n",
    "  print(\"Precisión de Random Forest:\", accuracy_score(y_test, gb_pred))\n",
    "  return gb_pred"
   ]
  },
  {
   "cell_type": "markdown",
   "metadata": {
    "id": "bKsE5ErOCPs6"
   },
   "source": [
    "## Naive Bayes"
   ]
  },
  {
   "cell_type": "code",
   "execution_count": null,
   "metadata": {
    "executionInfo": {
     "elapsed": 18,
     "status": "ok",
     "timestamp": 1687251956054,
     "user": {
      "displayName": "Amaia Pikatza Huerga",
      "userId": "01223455995351985189"
     },
     "user_tz": -120
    },
    "id": "fvnqFELfCPs6"
   },
   "outputs": [],
   "source": [
    "def naive_bayes(X_train, y_train, X_test, y_test):\n",
    "  # Crear una instancia del modelo Naive Bayes\n",
    "  nb = GaussianNB()\n",
    "\n",
    "  # Entrenar el modelo\n",
    "  nb.fit(X_train, y_train)\n",
    "\n",
    "  # Realizar predicciones en el conjunto de prueba\n",
    "  nb_pred = nb.predict(X_test)\n",
    "\n",
    "  # Evaluar la precisión del modelo\n",
    "  print(\"Precisión de Naive Bayes:\", accuracy_score(y_test, nb_pred))\n",
    "\n",
    "  return nb_pred, nb"
   ]
  },
  {
   "cell_type": "markdown",
   "metadata": {
    "id": "iHkuYos8VLUP"
   },
   "source": [
    "# Resultados"
   ]
  },
  {
   "cell_type": "code",
   "execution_count": null,
   "metadata": {
    "colab": {
     "base_uri": "https://localhost:8080/",
     "height": 209
    },
    "executionInfo": {
     "elapsed": 468,
     "status": "ok",
     "timestamp": 1686477853521,
     "user": {
      "displayName": "Amaia Pikatza Huerga",
      "userId": "01223455995351985189"
     },
     "user_tz": -120
    },
    "id": "3EKbJMsA5J4R",
    "outputId": "808beb19-d3a3-4b46-e757-4b3a85883dc1"
   },
   "outputs": [],
   "source": [
    "columns = ['Regresión Logística', '', '', '', 'Árbol de decisión', '', '', '', 'SVM', '', '', '', 'Red neuronal', '', '', '',\n",
    "           'KNN', '', '', '', 'Random Forest', '', '', '', 'Gradient Boosting', '', '', '', 'Naive Bayes', '', '', '']\n",
    "results = pd.DataFrame(columns=columns)\n",
    "results.loc['Metrics'] = ['ROC AUC', 'Especificidad', 'Sensibilidad', 'F1-score',\n",
    "                          'ROC AUC', 'Especificidad', 'Sensibilidad', 'F1-score',\n",
    "                          'ROC AUC', 'Especificidad', 'Sensibilidad', 'F1-score',\n",
    "                          'ROC AUC', 'Especificidad', 'Sensibilidad', 'F1-score',\n",
    "                          'ROC AUC', 'Especificidad', 'Sensibilidad', 'F1-score',\n",
    "                          'ROC AUC', 'Especificidad', 'Sensibilidad', 'F1-score',\n",
    "                          'ROC AUC', 'Especificidad', 'Sensibilidad', 'F1-score',\n",
    "                          'ROC AUC', 'Especificidad', 'Sensibilidad', 'F1-score']\n",
    "results"
   ]
  },
  {
   "cell_type": "code",
   "execution_count": null,
   "metadata": {
    "id": "kpZWxXt-6Bku"
   },
   "outputs": [],
   "source": [
    "def calculateSpecificity(y_true, y_pred):\n",
    "  # Calcular la matriz de confusión\n",
    "  tn, fp, fn, tp = confusion_matrix(y_true, y_pred).ravel()\n",
    "\n",
    "  # Calcular especificidad\n",
    "  return tn / (tn + fp)"
   ]
  },
  {
   "cell_type": "code",
   "execution_count": null,
   "metadata": {
    "executionInfo": {
     "elapsed": 258,
     "status": "ok",
     "timestamp": 1687252150622,
     "user": {
      "displayName": "Amaia Pikatza Huerga",
      "userId": "01223455995351985189"
     },
     "user_tz": -120
    },
    "id": "EwE3XBhDQCNw"
   },
   "outputs": [],
   "source": [
    "import matplotlib.pyplot as plt\n",
    "\n",
    "def calculateImportance(nb, X, y):\n",
    "    feature_names = X.columns\n",
    "\n",
    "    # Calculate feature importance\n",
    "    importance = permutation_importance(nb, X, y, scoring='roc_auc')\n",
    "\n",
    "    # Get the indices of features sorted by importance\n",
    "    feature_indices = importance.importances_mean.argsort()[::1]\n",
    "\n",
    "    # Plot the feature importances\n",
    "    plt.figure(figsize=(8, 8))\n",
    "    plt.barh(range(len(feature_indices)), importance.importances_mean[feature_indices], color='b', align='center')\n",
    "    plt.yticks(range(len(feature_indices)), feature_names[feature_indices])\n",
    "    plt.xlabel('Importance')\n",
    "    plt.ylabel('Features')\n",
    "    plt.show()"
   ]
  },
  {
   "cell_type": "markdown",
   "metadata": {
    "id": "eymYMftLxRrc"
   },
   "source": [
    "## Clasificación con dataset completo"
   ]
  },
  {
   "cell_type": "code",
   "execution_count": null,
   "metadata": {
    "id": "vBEnDHZIxVMi"
   },
   "outputs": [],
   "source": [
    "df_train = pd.read_csv(train_path)\n",
    "df_test = pd.read_csv(test_path)\n",
    "\n",
    "X_train = df_train.drop(['labels'], axis=1)\n",
    "y_train = df_train['labels']\n",
    "X_test = df_test.drop(['labels'], axis=1)\n",
    "y_test = df_test['labels']"
   ]
  },
  {
   "cell_type": "code",
   "execution_count": null,
   "metadata": {
    "colab": {
     "base_uri": "https://localhost:8080/"
    },
    "executionInfo": {
     "elapsed": 2524,
     "status": "ok",
     "timestamp": 1686477857050,
     "user": {
      "displayName": "Amaia Pikatza Huerga",
      "userId": "01223455995351985189"
     },
     "user_tz": -120
    },
    "id": "Ozkpgyq_S1Um",
    "outputId": "8aa82361-435f-4b74-b2e5-555736fc452e"
   },
   "outputs": [],
   "source": [
    "lr_pred = logistic_regresion(X_train, y_train, X_test, y_test)"
   ]
  },
  {
   "cell_type": "code",
   "execution_count": null,
   "metadata": {
    "colab": {
     "base_uri": "https://localhost:8080/"
    },
    "executionInfo": {
     "elapsed": 2460,
     "status": "ok",
     "timestamp": 1686477859506,
     "user": {
      "displayName": "Amaia Pikatza Huerga",
      "userId": "01223455995351985189"
     },
     "user_tz": -120
    },
    "id": "A-jN2ydHNUcP",
    "outputId": "89afdc44-05cf-4da3-efe8-6cd410d5f86e"
   },
   "outputs": [],
   "source": [
    "dt_pred = decision_tree(X_train, y_train, X_test, y_test)"
   ]
  },
  {
   "cell_type": "code",
   "execution_count": null,
   "metadata": {
    "colab": {
     "base_uri": "https://localhost:8080/"
    },
    "executionInfo": {
     "elapsed": 2450,
     "status": "ok",
     "timestamp": 1686477861932,
     "user": {
      "displayName": "Amaia Pikatza Huerga",
      "userId": "01223455995351985189"
     },
     "user_tz": -120
    },
    "id": "f5EbTiruNWDl",
    "outputId": "291423b0-1e0c-4fbd-ee81-0b89f0971545"
   },
   "outputs": [],
   "source": [
    "svm_pred = svm(X_train, y_train, X_test, y_test)"
   ]
  },
  {
   "cell_type": "code",
   "execution_count": null,
   "metadata": {
    "colab": {
     "base_uri": "https://localhost:8080/"
    },
    "executionInfo": {
     "elapsed": 34735,
     "status": "ok",
     "timestamp": 1686477896662,
     "user": {
      "displayName": "Amaia Pikatza Huerga",
      "userId": "01223455995351985189"
     },
     "user_tz": -120
    },
    "id": "4mwKwhpGNYuO",
    "outputId": "ae7a5c7f-527e-409f-ba32-111faa1ce63f"
   },
   "outputs": [],
   "source": [
    "nn_pred = neural_network(X_train, y_train, X_test, y_test)"
   ]
  },
  {
   "cell_type": "code",
   "execution_count": null,
   "metadata": {
    "colab": {
     "base_uri": "https://localhost:8080/"
    },
    "executionInfo": {
     "elapsed": 2043,
     "status": "ok",
     "timestamp": 1686477898699,
     "user": {
      "displayName": "Amaia Pikatza Huerga",
      "userId": "01223455995351985189"
     },
     "user_tz": -120
    },
    "id": "-IGJcDHLNaWs",
    "outputId": "46673996-83ff-4156-d9c9-0e72c4314013"
   },
   "outputs": [],
   "source": [
    "knn_pred = k_neighbors(X_train, y_train, X_test, y_test)"
   ]
  },
  {
   "cell_type": "code",
   "execution_count": null,
   "metadata": {
    "colab": {
     "base_uri": "https://localhost:8080/"
    },
    "executionInfo": {
     "elapsed": 261684,
     "status": "ok",
     "timestamp": 1686478160379,
     "user": {
      "displayName": "Amaia Pikatza Huerga",
      "userId": "01223455995351985189"
     },
     "user_tz": -120
    },
    "id": "npSnAYeKNcZq",
    "outputId": "95811de1-f736-4357-a2b3-f4d9bb9beae1"
   },
   "outputs": [],
   "source": [
    "rf_pred = random_forest(X_train, y_train, X_test, y_test)"
   ]
  },
  {
   "cell_type": "code",
   "execution_count": null,
   "metadata": {
    "colab": {
     "base_uri": "https://localhost:8080/"
    },
    "executionInfo": {
     "elapsed": 1770073,
     "status": "ok",
     "timestamp": 1686479930417,
     "user": {
      "displayName": "Amaia Pikatza Huerga",
      "userId": "01223455995351985189"
     },
     "user_tz": -120
    },
    "id": "QNC19cP0Ndvl",
    "outputId": "43662c07-9117-4397-ad8f-cd64d0910990"
   },
   "outputs": [],
   "source": [
    "gb_pred = gradient_boosting(X_train, y_train, X_test, y_test)"
   ]
  },
  {
   "cell_type": "code",
   "execution_count": null,
   "metadata": {
    "colab": {
     "base_uri": "https://localhost:8080/"
    },
    "executionInfo": {
     "elapsed": 15,
     "status": "ok",
     "timestamp": 1686479930418,
     "user": {
      "displayName": "Amaia Pikatza Huerga",
      "userId": "01223455995351985189"
     },
     "user_tz": -120
    },
    "id": "ej3OMgtLNfGg",
    "outputId": "967ebdf6-78ee-45cd-eea1-d503a0073a26"
   },
   "outputs": [],
   "source": [
    "nb_pred, nb_all = naive_bayes(X_train, y_train, X_test, y_test)"
   ]
  },
  {
   "cell_type": "code",
   "execution_count": null,
   "metadata": {
    "id": "2YQdBJJrQAVn"
   },
   "outputs": [],
   "source": [
    "results.loc['Completo'] = [roc_auc_score(y_test, lr_pred), calculateSpecificity(y_test, lr_pred), recall_score(y_test, lr_pred), f1_score(y_test, lr_pred),\n",
    "                           roc_auc_score(y_test, dt_pred), calculateSpecificity(y_test, dt_pred), recall_score(y_test, dt_pred), f1_score(y_test, dt_pred),\n",
    "                           roc_auc_score(y_test, svm_pred), calculateSpecificity(y_test, svm_pred), recall_score(y_test, svm_pred), f1_score(y_test, svm_pred),\n",
    "                           roc_auc_score(y_test, nn_pred), calculateSpecificity(y_test, nn_pred), recall_score(y_test, nn_pred), f1_score(y_test, nn_pred),\n",
    "                           roc_auc_score(y_test, knn_pred), calculateSpecificity(y_test, knn_pred), recall_score(y_test, knn_pred), f1_score(y_test, knn_pred),\n",
    "                           roc_auc_score(y_test, rf_pred), calculateSpecificity(y_test, rf_pred), recall_score(y_test, rf_pred), f1_score(y_test, rf_pred),\n",
    "                           roc_auc_score(y_test, gb_pred), calculateSpecificity(y_test, gb_pred), recall_score(y_test, gb_pred), f1_score(y_test, gb_pred),\n",
    "                           roc_auc_score(y_test, nb_pred), calculateSpecificity(y_test, nb_pred), recall_score(y_test, nb_pred), f1_score(y_test, nb_pred)]"
   ]
  },
  {
   "cell_type": "markdown",
   "metadata": {
    "id": "8a6Dpn58QRwS"
   },
   "source": [
    "### Explainability"
   ]
  },
  {
   "cell_type": "code",
   "execution_count": null,
   "metadata": {
    "colab": {
     "base_uri": "https://localhost:8080/",
     "height": 1000
    },
    "executionInfo": {
     "elapsed": 7037,
     "status": "ok",
     "timestamp": 1686479937446,
     "user": {
      "displayName": "Amaia Pikatza Huerga",
      "userId": "01223455995351985189"
     },
     "user_tz": -120
    },
    "id": "RVQPBJ6EQRwT",
    "outputId": "28458a1a-3799-4076-f1d1-051aea077f22"
   },
   "outputs": [],
   "source": [
    "calculateImportance(nb_all, X_test, y_test)"
   ]
  },
  {
   "cell_type": "markdown",
   "metadata": {
    "id": "KXMWxYrV7Tfu"
   },
   "source": [
    "## Clasificación con dataset completo (extracción de carácteristicas)"
   ]
  },
  {
   "cell_type": "code",
   "execution_count": null,
   "metadata": {
    "id": "Im8Ism9Xxwv9"
   },
   "outputs": [],
   "source": [
    "df_train = pd.read_csv(train_path)\n",
    "df_test = pd.read_csv(test_path)"
   ]
  },
  {
   "cell_type": "code",
   "execution_count": null,
   "metadata": {
    "id": "dlDQCrGP9I9N"
   },
   "outputs": [],
   "source": [
    "df_train_ec = pd.DataFrame()\n",
    "df_test_ec = pd.DataFrame()\n",
    "\n",
    "c = df_train.filter(regex='^WHOQOL').columns.tolist()\n",
    "df_train_ec['WHOQOL'] = df_train[c].sum(axis=1)\n",
    "c = df_train.filter(regex='^HAD').columns.tolist()\n",
    "df_train_ec['HAD'] = df_train[c].sum(axis=1)\n",
    "c = df_train.filter(regex='^EAT').columns.tolist()\n",
    "df_train_ec['EAT'] = df_train[c].sum(axis=1)\n",
    "c = df_train.filter(regex='^RESI[^_]').columns.tolist()\n",
    "df_train_ec['RESI'] = df_train[c].sum(axis=1)\n",
    "c = df_train.filter(regex='^SEIGOODDOING').columns.tolist()\n",
    "df_train_ec['SEIGGOODDOING'] = df_train[c].sum(axis=1)\n",
    "c = df_train.filter(regex='^RESI_').columns.tolist()\n",
    "df_train_ec['RESI_ULTIM'] = df_train[c].sum(axis=1)\n",
    "df_train_ec['labels'] = df_train['labels']\n",
    "\n",
    "c = df_test.filter(regex='^WHOQOL').columns.tolist()\n",
    "df_test_ec['WHOQOL'] = df_test[c].sum(axis=1)\n",
    "c = df_test.filter(regex='^HAD').columns.tolist()\n",
    "df_test_ec['HAD'] = df_test[c].sum(axis=1)\n",
    "c = df_test.filter(regex='^EAT').columns.tolist()\n",
    "df_test_ec['EAT'] = df_test[c].sum(axis=1)\n",
    "c = df_test.filter(regex='^RESI[^_]').columns.tolist()\n",
    "df_test_ec['RESI'] = df_test[c].sum(axis=1)\n",
    "c = df_test.filter(regex='^SEIGOODDOING').columns.tolist()\n",
    "df_test_ec['SEIGGOODDOING'] = df_test[c].sum(axis=1)\n",
    "c = df_test.filter(regex='^RESI_').columns.tolist()\n",
    "df_test_ec['RESI_ULTIM'] = df_test[c].sum(axis=1)\n",
    "df_test_ec['labels'] = df_test['labels']"
   ]
  },
  {
   "cell_type": "code",
   "execution_count": null,
   "metadata": {
    "id": "MdUCWyX77Tfx"
   },
   "outputs": [],
   "source": [
    "X_train = df_train_ec.drop(['labels'], axis=1)\n",
    "y_train = df_train_ec['labels']\n",
    "X_test = df_test_ec.drop(['labels'], axis=1)\n",
    "y_test = df_test_ec['labels']"
   ]
  },
  {
   "cell_type": "code",
   "execution_count": null,
   "metadata": {
    "colab": {
     "base_uri": "https://localhost:8080/"
    },
    "executionInfo": {
     "elapsed": 12,
     "status": "ok",
     "timestamp": 1686479937449,
     "user": {
      "displayName": "Amaia Pikatza Huerga",
      "userId": "01223455995351985189"
     },
     "user_tz": -120
    },
    "id": "RAmCKg0VWjRw",
    "outputId": "7f9881db-2725-44e5-ccc4-816796f5a336"
   },
   "outputs": [],
   "source": [
    "lr_pred = logistic_regresion(X_train, y_train, X_test, y_test)"
   ]
  },
  {
   "cell_type": "code",
   "execution_count": null,
   "metadata": {
    "colab": {
     "base_uri": "https://localhost:8080/"
    },
    "executionInfo": {
     "elapsed": 11,
     "status": "ok",
     "timestamp": 1686479937450,
     "user": {
      "displayName": "Amaia Pikatza Huerga",
      "userId": "01223455995351985189"
     },
     "user_tz": -120
    },
    "id": "1J-s0Y-dNiqw",
    "outputId": "01334908-e23d-4542-d653-f6ba9f7d6646"
   },
   "outputs": [],
   "source": [
    "dt_pred = decision_tree(X_train, y_train, X_test, y_test)"
   ]
  },
  {
   "cell_type": "code",
   "execution_count": null,
   "metadata": {
    "colab": {
     "base_uri": "https://localhost:8080/"
    },
    "executionInfo": {
     "elapsed": 1348,
     "status": "ok",
     "timestamp": 1686479938789,
     "user": {
      "displayName": "Amaia Pikatza Huerga",
      "userId": "01223455995351985189"
     },
     "user_tz": -120
    },
    "id": "IJZoNOR3Niqw",
    "outputId": "031ca20e-7e68-4eac-f987-b8b630b0c5f7"
   },
   "outputs": [],
   "source": [
    "svm_pred = svm(X_train, y_train, X_test, y_test)"
   ]
  },
  {
   "cell_type": "code",
   "execution_count": null,
   "metadata": {
    "colab": {
     "base_uri": "https://localhost:8080/"
    },
    "executionInfo": {
     "elapsed": 27283,
     "status": "ok",
     "timestamp": 1686479966068,
     "user": {
      "displayName": "Amaia Pikatza Huerga",
      "userId": "01223455995351985189"
     },
     "user_tz": -120
    },
    "id": "jwC8gY7nNiqx",
    "outputId": "6e5ad376-5061-4a9e-93a2-15d477f1c6f4"
   },
   "outputs": [],
   "source": [
    "nn_pred = neural_network(X_train, y_train, X_test, y_test)"
   ]
  },
  {
   "cell_type": "code",
   "execution_count": null,
   "metadata": {
    "colab": {
     "base_uri": "https://localhost:8080/"
    },
    "executionInfo": {
     "elapsed": 480,
     "status": "ok",
     "timestamp": 1686479966521,
     "user": {
      "displayName": "Amaia Pikatza Huerga",
      "userId": "01223455995351985189"
     },
     "user_tz": -120
    },
    "id": "x0qh7aTmNiqx",
    "outputId": "fbcabf3d-13ca-4741-efda-af31bf93bdf1"
   },
   "outputs": [],
   "source": [
    "knn_pred = k_neighbors(X_train, y_train, X_test, y_test)"
   ]
  },
  {
   "cell_type": "code",
   "execution_count": null,
   "metadata": {
    "colab": {
     "base_uri": "https://localhost:8080/"
    },
    "executionInfo": {
     "elapsed": 217639,
     "status": "ok",
     "timestamp": 1686480184157,
     "user": {
      "displayName": "Amaia Pikatza Huerga",
      "userId": "01223455995351985189"
     },
     "user_tz": -120
    },
    "id": "KyYxSIRKNiqy",
    "outputId": "88b9e3b9-3b8e-47e8-b419-db531c475b77"
   },
   "outputs": [],
   "source": [
    "rf_pred = random_forest(X_train, y_train, X_test, y_test)"
   ]
  },
  {
   "cell_type": "code",
   "execution_count": null,
   "metadata": {
    "colab": {
     "base_uri": "https://localhost:8080/"
    },
    "executionInfo": {
     "elapsed": 534813,
     "status": "ok",
     "timestamp": 1686480718941,
     "user": {
      "displayName": "Amaia Pikatza Huerga",
      "userId": "01223455995351985189"
     },
     "user_tz": -120
    },
    "id": "LXZreT69Niqy",
    "outputId": "b335c1fc-0f77-476e-d886-71a4460a6de0"
   },
   "outputs": [],
   "source": [
    "gb_pred = gradient_boosting(X_train, y_train, X_test, y_test)"
   ]
  },
  {
   "cell_type": "code",
   "execution_count": null,
   "metadata": {
    "colab": {
     "base_uri": "https://localhost:8080/"
    },
    "executionInfo": {
     "elapsed": 38,
     "status": "ok",
     "timestamp": 1686480718942,
     "user": {
      "displayName": "Amaia Pikatza Huerga",
      "userId": "01223455995351985189"
     },
     "user_tz": -120
    },
    "id": "Mdp0cwk1Niqy",
    "outputId": "7185da13-f5a3-47d2-db63-e6fe4756ca7d"
   },
   "outputs": [],
   "source": [
    "nb_pred, nb_ec = naive_bayes(X_train, y_train, X_test, y_test)"
   ]
  },
  {
   "cell_type": "code",
   "execution_count": null,
   "metadata": {
    "id": "-XX6FnOy7TgA"
   },
   "outputs": [],
   "source": [
    "results.loc['Completo (EC)'] = [roc_auc_score(y_test, lr_pred), calculateSpecificity(y_test, lr_pred), recall_score(y_test, lr_pred), f1_score(y_test, lr_pred),\n",
    "                           roc_auc_score(y_test, dt_pred), calculateSpecificity(y_test, dt_pred), recall_score(y_test, dt_pred), f1_score(y_test, dt_pred),\n",
    "                           roc_auc_score(y_test, svm_pred), calculateSpecificity(y_test, svm_pred), recall_score(y_test, svm_pred), f1_score(y_test, svm_pred),\n",
    "                           roc_auc_score(y_test, nn_pred), calculateSpecificity(y_test, nn_pred), recall_score(y_test, nn_pred), f1_score(y_test, nn_pred),\n",
    "                           roc_auc_score(y_test, knn_pred), calculateSpecificity(y_test, knn_pred), recall_score(y_test, knn_pred), f1_score(y_test, knn_pred),\n",
    "                           roc_auc_score(y_test, rf_pred), calculateSpecificity(y_test, rf_pred), recall_score(y_test, rf_pred), f1_score(y_test, rf_pred),\n",
    "                           roc_auc_score(y_test, gb_pred), calculateSpecificity(y_test, gb_pred), recall_score(y_test, gb_pred), f1_score(y_test, gb_pred),\n",
    "                           roc_auc_score(y_test, nb_pred), calculateSpecificity(y_test, nb_pred), recall_score(y_test, nb_pred), f1_score(y_test, nb_pred)]"
   ]
  },
  {
   "cell_type": "markdown",
   "metadata": {
    "id": "suQh7J76QWdc"
   },
   "source": [
    "### Explainability"
   ]
  },
  {
   "cell_type": "code",
   "execution_count": null,
   "metadata": {
    "colab": {
     "base_uri": "https://localhost:8080/",
     "height": 1000
    },
    "executionInfo": {
     "elapsed": 562,
     "status": "ok",
     "timestamp": 1686480719476,
     "user": {
      "displayName": "Amaia Pikatza Huerga",
      "userId": "01223455995351985189"
     },
     "user_tz": -120
    },
    "id": "4g5aOrFlQWdd",
    "outputId": "d7d91370-6ed5-4af6-f39e-8d28024184e7"
   },
   "outputs": [],
   "source": [
    "calculateImportance(nb_ec, X_test, y_test)"
   ]
  },
  {
   "cell_type": "code",
   "execution_count": null,
   "metadata": {
    "id": "3_5CHJK3HxJj"
   },
   "outputs": [],
   "source": [
    "#calculateShapley(nb_ec, X_test, 0)"
   ]
  },
  {
   "cell_type": "markdown",
   "metadata": {
    "id": "ZizcheImkUVI"
   },
   "source": [
    "## Clasificación con WHOQOL"
   ]
  },
  {
   "cell_type": "code",
   "execution_count": null,
   "metadata": {
    "id": "vhzmPo3HkUVW"
   },
   "outputs": [],
   "source": [
    "df_train = pd.read_csv(train_path)\n",
    "df_test = pd.read_csv(test_path)\n",
    "\n",
    "X_train = df_train.drop(['labels'], axis=1).filter(regex='^WHOQOL')\n",
    "y_train = df_train['labels']\n",
    "X_test = df_test.drop(['labels'], axis=1).filter(regex='^WHOQOL')\n",
    "y_test = df_test['labels']"
   ]
  },
  {
   "cell_type": "code",
   "execution_count": null,
   "metadata": {
    "colab": {
     "base_uri": "https://localhost:8080/"
    },
    "executionInfo": {
     "elapsed": 447,
     "status": "ok",
     "timestamp": 1686480719915,
     "user": {
      "displayName": "Amaia Pikatza Huerga",
      "userId": "01223455995351985189"
     },
     "user_tz": -120
    },
    "id": "08QrwuUXW3w_",
    "outputId": "51cd4aff-feb9-4554-f721-c373a876ae98"
   },
   "outputs": [],
   "source": [
    "lr_pred = logistic_regresion(X_train, y_train, X_test, y_test)"
   ]
  },
  {
   "cell_type": "code",
   "execution_count": null,
   "metadata": {
    "colab": {
     "base_uri": "https://localhost:8080/"
    },
    "executionInfo": {
     "elapsed": 5963,
     "status": "ok",
     "timestamp": 1686480725873,
     "user": {
      "displayName": "Amaia Pikatza Huerga",
      "userId": "01223455995351985189"
     },
     "user_tz": -120
    },
    "id": "cwY3H-HkNnh_",
    "outputId": "05b97c31-ef0a-4151-cc09-e31f9dc45170"
   },
   "outputs": [],
   "source": [
    "dt_pred = decision_tree(X_train, y_train, X_test, y_test)"
   ]
  },
  {
   "cell_type": "code",
   "execution_count": null,
   "metadata": {
    "colab": {
     "base_uri": "https://localhost:8080/"
    },
    "executionInfo": {
     "elapsed": 26,
     "status": "ok",
     "timestamp": 1686480725874,
     "user": {
      "displayName": "Amaia Pikatza Huerga",
      "userId": "01223455995351985189"
     },
     "user_tz": -120
    },
    "id": "H67jxaWuNnh_",
    "outputId": "bc224c5a-7007-46ed-88af-60b1986b526c"
   },
   "outputs": [],
   "source": [
    "svm_pred = svm(X_train, y_train, X_test, y_test)"
   ]
  },
  {
   "cell_type": "code",
   "execution_count": null,
   "metadata": {
    "colab": {
     "base_uri": "https://localhost:8080/"
    },
    "executionInfo": {
     "elapsed": 26274,
     "status": "ok",
     "timestamp": 1686480752124,
     "user": {
      "displayName": "Amaia Pikatza Huerga",
      "userId": "01223455995351985189"
     },
     "user_tz": -120
    },
    "id": "r8LuhfzTNnh_",
    "outputId": "67b7ae11-d03d-4689-92bb-88ec6b0997a8"
   },
   "outputs": [],
   "source": [
    "nn_pred = neural_network(X_train, y_train, X_test, y_test)"
   ]
  },
  {
   "cell_type": "code",
   "execution_count": null,
   "metadata": {
    "colab": {
     "base_uri": "https://localhost:8080/"
    },
    "executionInfo": {
     "elapsed": 5139,
     "status": "ok",
     "timestamp": 1686480757242,
     "user": {
      "displayName": "Amaia Pikatza Huerga",
      "userId": "01223455995351985189"
     },
     "user_tz": -120
    },
    "id": "mazOdBXqNniA",
    "outputId": "69c2c0bd-3cb8-488b-f91e-a31603454844"
   },
   "outputs": [],
   "source": [
    "knn_pred = k_neighbors(X_train, y_train, X_test, y_test)"
   ]
  },
  {
   "cell_type": "code",
   "execution_count": null,
   "metadata": {
    "colab": {
     "base_uri": "https://localhost:8080/"
    },
    "executionInfo": {
     "elapsed": 217489,
     "status": "ok",
     "timestamp": 1686480974727,
     "user": {
      "displayName": "Amaia Pikatza Huerga",
      "userId": "01223455995351985189"
     },
     "user_tz": -120
    },
    "id": "69VmQsq_NniA",
    "outputId": "45150cf1-e6cf-4c9f-8768-2594ff0fcdd2"
   },
   "outputs": [],
   "source": [
    "rf_pred = random_forest(X_train, y_train, X_test, y_test)"
   ]
  },
  {
   "cell_type": "code",
   "execution_count": null,
   "metadata": {
    "colab": {
     "base_uri": "https://localhost:8080/"
    },
    "executionInfo": {
     "elapsed": 629276,
     "status": "ok",
     "timestamp": 1686481603977,
     "user": {
      "displayName": "Amaia Pikatza Huerga",
      "userId": "01223455995351985189"
     },
     "user_tz": -120
    },
    "id": "JVhMd7B6NniA",
    "outputId": "a34091e7-9c3a-45b6-c28d-5f61ebd4b1da"
   },
   "outputs": [],
   "source": [
    "gb_pred = gradient_boosting(X_train, y_train, X_test, y_test)"
   ]
  },
  {
   "cell_type": "code",
   "execution_count": null,
   "metadata": {
    "colab": {
     "base_uri": "https://localhost:8080/"
    },
    "executionInfo": {
     "elapsed": 40,
     "status": "ok",
     "timestamp": 1686481603978,
     "user": {
      "displayName": "Amaia Pikatza Huerga",
      "userId": "01223455995351985189"
     },
     "user_tz": -120
    },
    "id": "ZnRsJTLYNniB",
    "outputId": "fd174ed9-751e-4fe0-9748-b8493b3b4bb1"
   },
   "outputs": [],
   "source": [
    "nb_pred, nb_who = naive_bayes(X_train, y_train, X_test, y_test)"
   ]
  },
  {
   "cell_type": "code",
   "execution_count": null,
   "metadata": {
    "id": "lcvMA6fNkUVe"
   },
   "outputs": [],
   "source": [
    "results.loc['WHOQOL'] = [roc_auc_score(y_test, lr_pred), calculateSpecificity(y_test, lr_pred), recall_score(y_test, lr_pred), f1_score(y_test, lr_pred),\n",
    "                           roc_auc_score(y_test, dt_pred), calculateSpecificity(y_test, dt_pred), recall_score(y_test, dt_pred), f1_score(y_test, dt_pred),\n",
    "                           roc_auc_score(y_test, svm_pred), calculateSpecificity(y_test, svm_pred), recall_score(y_test, svm_pred), f1_score(y_test, svm_pred),\n",
    "                           roc_auc_score(y_test, nn_pred), calculateSpecificity(y_test, nn_pred), recall_score(y_test, nn_pred), f1_score(y_test, nn_pred),\n",
    "                           roc_auc_score(y_test, knn_pred), calculateSpecificity(y_test, knn_pred), recall_score(y_test, knn_pred), f1_score(y_test, knn_pred),\n",
    "                           roc_auc_score(y_test, rf_pred), calculateSpecificity(y_test, rf_pred), recall_score(y_test, rf_pred), f1_score(y_test, rf_pred),\n",
    "                           roc_auc_score(y_test, gb_pred), calculateSpecificity(y_test, gb_pred), recall_score(y_test, gb_pred), f1_score(y_test, gb_pred),\n",
    "                           roc_auc_score(y_test, nb_pred), calculateSpecificity(y_test, nb_pred), recall_score(y_test, nb_pred), f1_score(y_test, nb_pred)]"
   ]
  },
  {
   "cell_type": "markdown",
   "metadata": {
    "id": "ivOuiiZoQbcm"
   },
   "source": [
    "### Explainability"
   ]
  },
  {
   "cell_type": "code",
   "execution_count": null,
   "metadata": {
    "colab": {
     "base_uri": "https://localhost:8080/",
     "height": 1000
    },
    "executionInfo": {
     "elapsed": 1229,
     "status": "ok",
     "timestamp": 1686481605171,
     "user": {
      "displayName": "Amaia Pikatza Huerga",
      "userId": "01223455995351985189"
     },
     "user_tz": -120
    },
    "id": "8cOIqa8NQbc2",
    "outputId": "c0d15577-c3f0-4565-c4de-5beeb598bcda"
   },
   "outputs": [],
   "source": [
    "calculateImportance(nb_who, X_test, y_test)"
   ]
  },
  {
   "cell_type": "code",
   "execution_count": null,
   "metadata": {
    "id": "vseswskZHznR"
   },
   "outputs": [],
   "source": [
    "#calculateShapley(nb_who, X_test, 0)"
   ]
  },
  {
   "cell_type": "markdown",
   "metadata": {
    "id": "QNO31yNglM0i"
   },
   "source": [
    "## Clasificación con HAD"
   ]
  },
  {
   "cell_type": "code",
   "execution_count": null,
   "metadata": {
    "id": "6jzz00PFlM0v"
   },
   "outputs": [],
   "source": [
    "df_train = pd.read_csv(train_path)\n",
    "df_test = pd.read_csv(test_path)\n",
    "\n",
    "X_train = df_train.drop(['labels'], axis=1).filter(regex='^HAD')\n",
    "y_train = df_train['labels']\n",
    "X_test = df_test.drop(['labels'], axis=1).filter(regex='^HAD')\n",
    "y_test = df_test['labels']"
   ]
  },
  {
   "cell_type": "code",
   "execution_count": null,
   "metadata": {
    "colab": {
     "base_uri": "https://localhost:8080/"
    },
    "executionInfo": {
     "elapsed": 13,
     "status": "ok",
     "timestamp": 1686481605175,
     "user": {
      "displayName": "Amaia Pikatza Huerga",
      "userId": "01223455995351985189"
     },
     "user_tz": -120
    },
    "id": "BU50y5G7XB5Q",
    "outputId": "2b15c13d-41da-4470-b1e6-b6d75bb35d49"
   },
   "outputs": [],
   "source": [
    "lr_pred = logistic_regresion(X_train, y_train, X_test, y_test)"
   ]
  },
  {
   "cell_type": "code",
   "execution_count": null,
   "metadata": {
    "colab": {
     "base_uri": "https://localhost:8080/"
    },
    "executionInfo": {
     "elapsed": 546,
     "status": "ok",
     "timestamp": 1686481605711,
     "user": {
      "displayName": "Amaia Pikatza Huerga",
      "userId": "01223455995351985189"
     },
     "user_tz": -120
    },
    "id": "PUy0w57_NqLE",
    "outputId": "974a626d-52a6-43db-e60d-6b463309146f"
   },
   "outputs": [],
   "source": [
    "dt_pred = decision_tree(X_train, y_train, X_test, y_test)"
   ]
  },
  {
   "cell_type": "code",
   "execution_count": null,
   "metadata": {
    "colab": {
     "base_uri": "https://localhost:8080/"
    },
    "executionInfo": {
     "elapsed": 1045,
     "status": "ok",
     "timestamp": 1686481606754,
     "user": {
      "displayName": "Amaia Pikatza Huerga",
      "userId": "01223455995351985189"
     },
     "user_tz": -120
    },
    "id": "xvwLDKJwNqLF",
    "outputId": "9ac102ab-a664-4a32-db38-82a4431198d9"
   },
   "outputs": [],
   "source": [
    "svm_pred = svm(X_train, y_train, X_test, y_test)"
   ]
  },
  {
   "cell_type": "code",
   "execution_count": null,
   "metadata": {
    "colab": {
     "base_uri": "https://localhost:8080/"
    },
    "executionInfo": {
     "elapsed": 28418,
     "status": "ok",
     "timestamp": 1686481635169,
     "user": {
      "displayName": "Amaia Pikatza Huerga",
      "userId": "01223455995351985189"
     },
     "user_tz": -120
    },
    "id": "RWWKL_OzNqLF",
    "outputId": "26b27c6c-447b-4bfa-a0eb-bba0aec7a591"
   },
   "outputs": [],
   "source": [
    "nn_pred = neural_network(X_train, y_train, X_test, y_test)"
   ]
  },
  {
   "cell_type": "code",
   "execution_count": null,
   "metadata": {
    "colab": {
     "base_uri": "https://localhost:8080/"
    },
    "executionInfo": {
     "elapsed": 491,
     "status": "ok",
     "timestamp": 1686481635638,
     "user": {
      "displayName": "Amaia Pikatza Huerga",
      "userId": "01223455995351985189"
     },
     "user_tz": -120
    },
    "id": "4z_HI9rfNqLG",
    "outputId": "e9d01ee1-72f1-42d9-d53d-7f1b04f0b4d4"
   },
   "outputs": [],
   "source": [
    "knn_pred = k_neighbors(X_train, y_train, X_test, y_test)"
   ]
  },
  {
   "cell_type": "code",
   "execution_count": null,
   "metadata": {
    "colab": {
     "base_uri": "https://localhost:8080/"
    },
    "executionInfo": {
     "elapsed": 210986,
     "status": "ok",
     "timestamp": 1686481846622,
     "user": {
      "displayName": "Amaia Pikatza Huerga",
      "userId": "01223455995351985189"
     },
     "user_tz": -120
    },
    "id": "marlrmQONqLH",
    "outputId": "81e90b80-207b-4670-defa-ee630098395c"
   },
   "outputs": [],
   "source": [
    "rf_pred = random_forest(X_train, y_train, X_test, y_test)"
   ]
  },
  {
   "cell_type": "code",
   "execution_count": null,
   "metadata": {
    "colab": {
     "base_uri": "https://localhost:8080/"
    },
    "executionInfo": {
     "elapsed": 531249,
     "status": "ok",
     "timestamp": 1686482377841,
     "user": {
      "displayName": "Amaia Pikatza Huerga",
      "userId": "01223455995351985189"
     },
     "user_tz": -120
    },
    "id": "PG83PpTqNqLH",
    "outputId": "d073d601-50ea-4430-8026-dfbca10c0b94"
   },
   "outputs": [],
   "source": [
    "gb_pred = gradient_boosting(X_train, y_train, X_test, y_test)"
   ]
  },
  {
   "cell_type": "code",
   "execution_count": null,
   "metadata": {
    "colab": {
     "base_uri": "https://localhost:8080/"
    },
    "executionInfo": {
     "elapsed": 24,
     "status": "ok",
     "timestamp": 1686482377842,
     "user": {
      "displayName": "Amaia Pikatza Huerga",
      "userId": "01223455995351985189"
     },
     "user_tz": -120
    },
    "id": "kQbu5tceNqLM",
    "outputId": "4a333061-e32d-4c33-ce20-dcc2a70a4fb0"
   },
   "outputs": [],
   "source": [
    "nb_pred, nb_had = naive_bayes(X_train, y_train, X_test, y_test)"
   ]
  },
  {
   "cell_type": "code",
   "execution_count": null,
   "metadata": {
    "id": "gVVkei1plM05"
   },
   "outputs": [],
   "source": [
    "results.loc['HAD'] = [roc_auc_score(y_test, lr_pred), calculateSpecificity(y_test, lr_pred), recall_score(y_test, lr_pred), f1_score(y_test, lr_pred),\n",
    "                           roc_auc_score(y_test, dt_pred), calculateSpecificity(y_test, dt_pred), recall_score(y_test, dt_pred), f1_score(y_test, dt_pred),\n",
    "                           roc_auc_score(y_test, svm_pred), calculateSpecificity(y_test, svm_pred), recall_score(y_test, svm_pred), f1_score(y_test, svm_pred),\n",
    "                           roc_auc_score(y_test, nn_pred), calculateSpecificity(y_test, nn_pred), recall_score(y_test, nn_pred), f1_score(y_test, nn_pred),\n",
    "                           roc_auc_score(y_test, knn_pred), calculateSpecificity(y_test, knn_pred), recall_score(y_test, knn_pred), f1_score(y_test, knn_pred),\n",
    "                           roc_auc_score(y_test, rf_pred), calculateSpecificity(y_test, rf_pred), recall_score(y_test, rf_pred), f1_score(y_test, rf_pred),\n",
    "                           roc_auc_score(y_test, gb_pred), calculateSpecificity(y_test, gb_pred), recall_score(y_test, gb_pred), f1_score(y_test, gb_pred),\n",
    "                           roc_auc_score(y_test, nb_pred), calculateSpecificity(y_test, nb_pred), recall_score(y_test, nb_pred), f1_score(y_test, nb_pred)]"
   ]
  },
  {
   "cell_type": "markdown",
   "metadata": {
    "id": "RKi4O5tJQgSc"
   },
   "source": [
    "### Explainability"
   ]
  },
  {
   "cell_type": "code",
   "execution_count": null,
   "metadata": {
    "colab": {
     "base_uri": "https://localhost:8080/"
    },
    "executionInfo": {
     "elapsed": 524,
     "status": "ok",
     "timestamp": 1686482378346,
     "user": {
      "displayName": "Amaia Pikatza Huerga",
      "userId": "01223455995351985189"
     },
     "user_tz": -120
    },
    "id": "FiqZHU4uQgSd",
    "outputId": "4f5d3789-6bdd-45a6-aa3b-d47982245864"
   },
   "outputs": [],
   "source": [
    "calculateImportance(nb_had, X_test, y_test)"
   ]
  },
  {
   "cell_type": "code",
   "execution_count": null,
   "metadata": {
    "id": "96y8H4gmH4-g"
   },
   "outputs": [],
   "source": [
    "#calculateShapley(nb_had, X_test, 0)"
   ]
  },
  {
   "cell_type": "markdown",
   "metadata": {
    "id": "Zv4Ww-NhldWI"
   },
   "source": [
    "## Clasificación con EAT"
   ]
  },
  {
   "cell_type": "code",
   "execution_count": null,
   "metadata": {
    "id": "J1-oVcFdldWU"
   },
   "outputs": [],
   "source": [
    "df_train = pd.read_csv(train_path)\n",
    "df_test = pd.read_csv(test_path)\n",
    "\n",
    "X_train = df_train.drop(['labels'], axis=1).filter(regex='^EAT')\n",
    "y_train = df_train['labels']\n",
    "X_test = df_test.drop(['labels'], axis=1).filter(regex='^EAT')\n",
    "y_test = df_test['labels']"
   ]
  },
  {
   "cell_type": "code",
   "execution_count": null,
   "metadata": {
    "colab": {
     "base_uri": "https://localhost:8080/"
    },
    "executionInfo": {
     "elapsed": 625,
     "status": "ok",
     "timestamp": 1686482379377,
     "user": {
      "displayName": "Amaia Pikatza Huerga",
      "userId": "01223455995351985189"
     },
     "user_tz": -120
    },
    "id": "_HZmBK8XXJ2Y",
    "outputId": "d607e244-be1c-4c3b-c75e-aef24d86ab29"
   },
   "outputs": [],
   "source": [
    "lr_pred = logistic_regresion(X_train, y_train, X_test, y_test)"
   ]
  },
  {
   "cell_type": "code",
   "execution_count": null,
   "metadata": {
    "colab": {
     "base_uri": "https://localhost:8080/"
    },
    "executionInfo": {
     "elapsed": 487,
     "status": "ok",
     "timestamp": 1686482379860,
     "user": {
      "displayName": "Amaia Pikatza Huerga",
      "userId": "01223455995351985189"
     },
     "user_tz": -120
    },
    "id": "QrnTu8SANukb",
    "outputId": "60b98ccf-e0fb-4e35-ec6d-3e72ca3954f9"
   },
   "outputs": [],
   "source": [
    "dt_pred = decision_tree(X_train, y_train, X_test, y_test)"
   ]
  },
  {
   "cell_type": "code",
   "execution_count": null,
   "metadata": {
    "colab": {
     "base_uri": "https://localhost:8080/"
    },
    "executionInfo": {
     "elapsed": 1375,
     "status": "ok",
     "timestamp": 1686482381232,
     "user": {
      "displayName": "Amaia Pikatza Huerga",
      "userId": "01223455995351985189"
     },
     "user_tz": -120
    },
    "id": "qelnUXyxNukc",
    "outputId": "5e1030b4-eeaf-446f-cdeb-296e8956323a"
   },
   "outputs": [],
   "source": [
    "svm_pred = svm(X_train, y_train, X_test, y_test)"
   ]
  },
  {
   "cell_type": "code",
   "execution_count": null,
   "metadata": {
    "colab": {
     "base_uri": "https://localhost:8080/"
    },
    "executionInfo": {
     "elapsed": 30851,
     "status": "ok",
     "timestamp": 1686482412080,
     "user": {
      "displayName": "Amaia Pikatza Huerga",
      "userId": "01223455995351985189"
     },
     "user_tz": -120
    },
    "id": "GByUKtw-Nukd",
    "outputId": "1056698b-0bfc-4807-e8be-c7dd8931bc83"
   },
   "outputs": [],
   "source": [
    "nn_pred = neural_network(X_train, y_train, X_test, y_test)"
   ]
  },
  {
   "cell_type": "code",
   "execution_count": null,
   "metadata": {
    "colab": {
     "base_uri": "https://localhost:8080/"
    },
    "executionInfo": {
     "elapsed": 460,
     "status": "ok",
     "timestamp": 1686482412521,
     "user": {
      "displayName": "Amaia Pikatza Huerga",
      "userId": "01223455995351985189"
     },
     "user_tz": -120
    },
    "id": "h1l-a5i0Nukd",
    "outputId": "eafe41a5-2b2d-4297-9cca-0b713eaaab43"
   },
   "outputs": [],
   "source": [
    "knn_pred = k_neighbors(X_train, y_train, X_test, y_test)"
   ]
  },
  {
   "cell_type": "code",
   "execution_count": null,
   "metadata": {
    "colab": {
     "base_uri": "https://localhost:8080/"
    },
    "executionInfo": {
     "elapsed": 214759,
     "status": "ok",
     "timestamp": 1686482627277,
     "user": {
      "displayName": "Amaia Pikatza Huerga",
      "userId": "01223455995351985189"
     },
     "user_tz": -120
    },
    "id": "ZbpmXGNtNuke",
    "outputId": "66e9e739-14d4-46bd-fdb5-0be27d19d9ea"
   },
   "outputs": [],
   "source": [
    "rf_pred = random_forest(X_train, y_train, X_test, y_test)"
   ]
  },
  {
   "cell_type": "code",
   "execution_count": null,
   "metadata": {
    "colab": {
     "base_uri": "https://localhost:8080/"
    },
    "executionInfo": {
     "elapsed": 543535,
     "status": "ok",
     "timestamp": 1686483170784,
     "user": {
      "displayName": "Amaia Pikatza Huerga",
      "userId": "01223455995351985189"
     },
     "user_tz": -120
    },
    "id": "iB6L6c-JNuke",
    "outputId": "dd4eed6c-53fa-4de1-c10a-066bbfa46d1b"
   },
   "outputs": [],
   "source": [
    "gb_pred = gradient_boosting(X_train, y_train, X_test, y_test)"
   ]
  },
  {
   "cell_type": "code",
   "execution_count": null,
   "metadata": {
    "colab": {
     "base_uri": "https://localhost:8080/"
    },
    "executionInfo": {
     "elapsed": 23,
     "status": "ok",
     "timestamp": 1686483170785,
     "user": {
      "displayName": "Amaia Pikatza Huerga",
      "userId": "01223455995351985189"
     },
     "user_tz": -120
    },
    "id": "CO3wrekjNukf",
    "outputId": "e7311c46-b22b-481f-bc3a-a24475f8166d"
   },
   "outputs": [],
   "source": [
    "nb_pred, nb_eat = naive_bayes(X_train, y_train, X_test, y_test)"
   ]
  },
  {
   "cell_type": "code",
   "execution_count": null,
   "metadata": {
    "id": "NowNhD2zldWX"
   },
   "outputs": [],
   "source": [
    "results.loc['EAT'] = [roc_auc_score(y_test, lr_pred), calculateSpecificity(y_test, lr_pred), recall_score(y_test, lr_pred), f1_score(y_test, lr_pred),\n",
    "                           roc_auc_score(y_test, dt_pred), calculateSpecificity(y_test, dt_pred), recall_score(y_test, dt_pred), f1_score(y_test, dt_pred),\n",
    "                           roc_auc_score(y_test, svm_pred), calculateSpecificity(y_test, svm_pred), recall_score(y_test, svm_pred), f1_score(y_test, svm_pred),\n",
    "                           roc_auc_score(y_test, nn_pred), calculateSpecificity(y_test, nn_pred), recall_score(y_test, nn_pred), f1_score(y_test, nn_pred),\n",
    "                           roc_auc_score(y_test, knn_pred), calculateSpecificity(y_test, knn_pred), recall_score(y_test, knn_pred), f1_score(y_test, knn_pred),\n",
    "                           roc_auc_score(y_test, rf_pred), calculateSpecificity(y_test, rf_pred), recall_score(y_test, rf_pred), f1_score(y_test, rf_pred),\n",
    "                           roc_auc_score(y_test, gb_pred), calculateSpecificity(y_test, gb_pred), recall_score(y_test, gb_pred), f1_score(y_test, gb_pred),\n",
    "                           roc_auc_score(y_test, nb_pred), calculateSpecificity(y_test, nb_pred), recall_score(y_test, nb_pred), f1_score(y_test, nb_pred)]"
   ]
  },
  {
   "cell_type": "markdown",
   "metadata": {
    "id": "GPJ_nqVmQmDF"
   },
   "source": [
    "### Explainability"
   ]
  },
  {
   "cell_type": "code",
   "execution_count": null,
   "metadata": {
    "colab": {
     "base_uri": "https://localhost:8080/",
     "height": 1000
    },
    "executionInfo": {
     "elapsed": 2068,
     "status": "ok",
     "timestamp": 1686483172835,
     "user": {
      "displayName": "Amaia Pikatza Huerga",
      "userId": "01223455995351985189"
     },
     "user_tz": -120
    },
    "id": "zltc-tGAQmDH",
    "outputId": "c6d2ae28-65b0-4678-a5df-034be553fcc5"
   },
   "outputs": [],
   "source": [
    "calculateImportance(nb_eat, X_test, y_test)"
   ]
  },
  {
   "cell_type": "code",
   "execution_count": null,
   "metadata": {
    "id": "7ii7QHLqH7Mf"
   },
   "outputs": [],
   "source": [
    "#calculateShapley(nb_eat, X_test, 0)"
   ]
  },
  {
   "cell_type": "markdown",
   "metadata": {
    "id": "8ZPjU4UcmD6p"
   },
   "source": [
    "## Clasificación con RESI"
   ]
  },
  {
   "cell_type": "code",
   "execution_count": null,
   "metadata": {
    "executionInfo": {
     "elapsed": 1323,
     "status": "ok",
     "timestamp": 1687251957360,
     "user": {
      "displayName": "Amaia Pikatza Huerga",
      "userId": "01223455995351985189"
     },
     "user_tz": -120
    },
    "id": "nFaKpmLAmD63"
   },
   "outputs": [],
   "source": [
    "df_train = pd.read_csv(train_path)\n",
    "df_test = pd.read_csv(test_path)\n",
    "\n",
    "X_train = df_train.drop(['labels'], axis=1).filter(regex='^RESI[^_]')\n",
    "y_train = df_train['labels']\n",
    "X_test = df_test.drop(['labels'], axis=1).filter(regex='^RESI[^_]')\n",
    "y_test = df_test['labels']"
   ]
  },
  {
   "cell_type": "code",
   "execution_count": null,
   "metadata": {
    "colab": {
     "base_uri": "https://localhost:8080/"
    },
    "executionInfo": {
     "elapsed": 46,
     "status": "ok",
     "timestamp": 1686483172839,
     "user": {
      "displayName": "Amaia Pikatza Huerga",
      "userId": "01223455995351985189"
     },
     "user_tz": -120
    },
    "id": "QMJAXRdTXkh3",
    "outputId": "0f7d3f5e-0fd5-428b-f641-0e5b6f7d9a89"
   },
   "outputs": [],
   "source": [
    "lr_pred = logistic_regresion(X_train, y_train, X_test, y_test)"
   ]
  },
  {
   "cell_type": "code",
   "execution_count": null,
   "metadata": {
    "colab": {
     "base_uri": "https://localhost:8080/"
    },
    "executionInfo": {
     "elapsed": 37,
     "status": "ok",
     "timestamp": 1686483172840,
     "user": {
      "displayName": "Amaia Pikatza Huerga",
      "userId": "01223455995351985189"
     },
     "user_tz": -120
    },
    "id": "lswt0fsINxsu",
    "outputId": "976bff22-0871-47c1-c0a6-e42f5087747c"
   },
   "outputs": [],
   "source": [
    "lr_pred = logistic_regresion(X_train, y_train, X_test, y_test)"
   ]
  },
  {
   "cell_type": "code",
   "execution_count": null,
   "metadata": {
    "colab": {
     "base_uri": "https://localhost:8080/"
    },
    "executionInfo": {
     "elapsed": 1265,
     "status": "ok",
     "timestamp": 1686483174071,
     "user": {
      "displayName": "Amaia Pikatza Huerga",
      "userId": "01223455995351985189"
     },
     "user_tz": -120
    },
    "id": "PhRlQuKBNxsw",
    "outputId": "021a3c26-e4cc-4c89-de2d-06e6b79a071c"
   },
   "outputs": [],
   "source": [
    "dt_pred = decision_tree(X_train, y_train, X_test, y_test)"
   ]
  },
  {
   "cell_type": "code",
   "execution_count": null,
   "metadata": {
    "colab": {
     "base_uri": "https://localhost:8080/"
    },
    "executionInfo": {
     "elapsed": 2418,
     "status": "ok",
     "timestamp": 1686483176486,
     "user": {
      "displayName": "Amaia Pikatza Huerga",
      "userId": "01223455995351985189"
     },
     "user_tz": -120
    },
    "id": "pzSCfLp6Nxsx",
    "outputId": "4693e13d-1de6-495f-aaa0-3076ae9de4e5"
   },
   "outputs": [],
   "source": [
    "svm_pred = svm(X_train, y_train, X_test, y_test)"
   ]
  },
  {
   "cell_type": "code",
   "execution_count": null,
   "metadata": {
    "colab": {
     "base_uri": "https://localhost:8080/"
    },
    "executionInfo": {
     "elapsed": 32355,
     "status": "ok",
     "timestamp": 1686483208839,
     "user": {
      "displayName": "Amaia Pikatza Huerga",
      "userId": "01223455995351985189"
     },
     "user_tz": -120
    },
    "id": "LABlNpaXNxsz",
    "outputId": "b00c967c-d02a-497d-d173-07b39c882610"
   },
   "outputs": [],
   "source": [
    "nn_pred = neural_network(X_train, y_train, X_test, y_test)"
   ]
  },
  {
   "cell_type": "code",
   "execution_count": null,
   "metadata": {
    "colab": {
     "base_uri": "https://localhost:8080/"
    },
    "executionInfo": {
     "elapsed": 476,
     "status": "ok",
     "timestamp": 1686483209289,
     "user": {
      "displayName": "Amaia Pikatza Huerga",
      "userId": "01223455995351985189"
     },
     "user_tz": -120
    },
    "id": "9WUfpne0Nxsz",
    "outputId": "8d69493f-a3e7-41a0-a8df-99ecd7792122"
   },
   "outputs": [],
   "source": [
    "knn_pred = k_neighbors(X_train, y_train, X_test, y_test)"
   ]
  },
  {
   "cell_type": "code",
   "execution_count": null,
   "metadata": {
    "colab": {
     "base_uri": "https://localhost:8080/"
    },
    "executionInfo": {
     "elapsed": 225467,
     "status": "ok",
     "timestamp": 1686483434752,
     "user": {
      "displayName": "Amaia Pikatza Huerga",
      "userId": "01223455995351985189"
     },
     "user_tz": -120
    },
    "id": "zlSAmA-BNxs0",
    "outputId": "632aff15-db12-4781-fff7-080a2c191762"
   },
   "outputs": [],
   "source": [
    "rf_pred = random_forest(X_train, y_train, X_test, y_test)"
   ]
  },
  {
   "cell_type": "code",
   "execution_count": null,
   "metadata": {
    "colab": {
     "base_uri": "https://localhost:8080/"
    },
    "executionInfo": {
     "elapsed": 826662,
     "status": "ok",
     "timestamp": 1686484261396,
     "user": {
      "displayName": "Amaia Pikatza Huerga",
      "userId": "01223455995351985189"
     },
     "user_tz": -120
    },
    "id": "jYmfsNbONxs1",
    "outputId": "3e749f39-fada-4472-e865-ea1225817e36"
   },
   "outputs": [],
   "source": [
    "gb_pred = gradient_boosting(X_train, y_train, X_test, y_test)"
   ]
  },
  {
   "cell_type": "code",
   "execution_count": null,
   "metadata": {
    "colab": {
     "base_uri": "https://localhost:8080/"
    },
    "executionInfo": {
     "elapsed": 8,
     "status": "ok",
     "timestamp": 1687251957361,
     "user": {
      "displayName": "Amaia Pikatza Huerga",
      "userId": "01223455995351985189"
     },
     "user_tz": -120
    },
    "id": "52CNonD2Nxs2",
    "outputId": "2dd1c7b5-73ef-464a-b8c0-ddd00ac6e26c"
   },
   "outputs": [],
   "source": [
    "nb_pred, nb_resi = naive_bayes(X_train, y_train, X_test, y_test)\n",
    "joblib.dump(nb_resi, \"nb_resi_model.pkl\")"
   ]
  },
  {
   "cell_type": "code",
   "execution_count": null,
   "metadata": {
    "id": "HHzPQwkNmD68"
   },
   "outputs": [],
   "source": [
    "results.loc['RESI'] = [roc_auc_score(y_test, lr_pred), calculateSpecificity(y_test, lr_pred), recall_score(y_test, lr_pred), f1_score(y_test, lr_pred),\n",
    "                           roc_auc_score(y_test, dt_pred), calculateSpecificity(y_test, dt_pred), recall_score(y_test, dt_pred), f1_score(y_test, dt_pred),\n",
    "                           roc_auc_score(y_test, svm_pred), calculateSpecificity(y_test, svm_pred), recall_score(y_test, svm_pred), f1_score(y_test, svm_pred),\n",
    "                           roc_auc_score(y_test, nn_pred), calculateSpecificity(y_test, nn_pred), recall_score(y_test, nn_pred), f1_score(y_test, nn_pred),\n",
    "                           roc_auc_score(y_test, knn_pred), calculateSpecificity(y_test, knn_pred), recall_score(y_test, knn_pred), f1_score(y_test, knn_pred),\n",
    "                           roc_auc_score(y_test, rf_pred), calculateSpecificity(y_test, rf_pred), recall_score(y_test, rf_pred), f1_score(y_test, rf_pred),\n",
    "                           roc_auc_score(y_test, gb_pred), calculateSpecificity(y_test, gb_pred), recall_score(y_test, gb_pred), f1_score(y_test, gb_pred),\n",
    "                           roc_auc_score(y_test, nb_pred), calculateSpecificity(y_test, nb_pred), recall_score(y_test, nb_pred), f1_score(y_test, nb_pred)]"
   ]
  },
  {
   "cell_type": "markdown",
   "metadata": {
    "id": "aXkGO0h9QkhH"
   },
   "source": [
    "### Explainability"
   ]
  },
  {
   "cell_type": "code",
   "execution_count": null,
   "metadata": {
    "colab": {
     "base_uri": "https://localhost:8080/",
     "height": 696
    },
    "executionInfo": {
     "elapsed": 1767,
     "status": "ok",
     "timestamp": 1687252209426,
     "user": {
      "displayName": "Amaia Pikatza Huerga",
      "userId": "01223455995351985189"
     },
     "user_tz": -120
    },
    "id": "55HWU1jsQkhI",
    "outputId": "d7e13160-21eb-4dd1-8761-ba8b6223cb5a"
   },
   "outputs": [],
   "source": [
    "calculateImportance(nb_resi, X_test, y_test)"
   ]
  },
  {
   "cell_type": "code",
   "execution_count": null,
   "metadata": {
    "id": "fQeoUbjcH9Ug"
   },
   "outputs": [],
   "source": [
    "#calculateShapley(nb_resi, X_test, 0)"
   ]
  },
  {
   "cell_type": "markdown",
   "metadata": {
    "id": "vAY5oai5dvi6"
   },
   "source": [
    "## Clasificación con RED-5"
   ]
  },
  {
   "cell_type": "code",
   "execution_count": null,
   "metadata": {
    "id": "sgcoZhNtdvjL"
   },
   "outputs": [],
   "source": [
    "df_train = pd.read_csv(train_path)\n",
    "df_test = pd.read_csv(test_path)\n",
    "\n",
    "X_train = df_train[['RESI16', 'RESI27', 'RESI28', 'RESI30', 'RESI31']]\n",
    "y_train = df_train['labels']\n",
    "X_test = df_test[['RESI16', 'RESI27', 'RESI28', 'RESI30', 'RESI31']]\n",
    "y_test = df_test['labels']"
   ]
  },
  {
   "cell_type": "code",
   "execution_count": null,
   "metadata": {
    "colab": {
     "base_uri": "https://localhost:8080/"
    },
    "executionInfo": {
     "elapsed": 17,
     "status": "ok",
     "timestamp": 1686484263275,
     "user": {
      "displayName": "Amaia Pikatza Huerga",
      "userId": "01223455995351985189"
     },
     "user_tz": -120
    },
    "id": "wLer9Ef2dvjM",
    "outputId": "89d816fe-4f0b-4f3e-8536-646f52709ead"
   },
   "outputs": [],
   "source": [
    "lr_pred = logistic_regresion(X_train, y_train, X_test, y_test)"
   ]
  },
  {
   "cell_type": "code",
   "execution_count": null,
   "metadata": {
    "colab": {
     "base_uri": "https://localhost:8080/"
    },
    "executionInfo": {
     "elapsed": 473,
     "status": "ok",
     "timestamp": 1686484263736,
     "user": {
      "displayName": "Amaia Pikatza Huerga",
      "userId": "01223455995351985189"
     },
     "user_tz": -120
    },
    "id": "lqUZS-MEdvjN",
    "outputId": "e29618b0-496f-4883-8aa1-4581f96e4235"
   },
   "outputs": [],
   "source": [
    "lr_pred = logistic_regresion(X_train, y_train, X_test, y_test)"
   ]
  },
  {
   "cell_type": "code",
   "execution_count": null,
   "metadata": {
    "colab": {
     "base_uri": "https://localhost:8080/"
    },
    "executionInfo": {
     "elapsed": 445,
     "status": "ok",
     "timestamp": 1686484264179,
     "user": {
      "displayName": "Amaia Pikatza Huerga",
      "userId": "01223455995351985189"
     },
     "user_tz": -120
    },
    "id": "LTwLsbw8dvjN",
    "outputId": "97803cc6-f230-4563-b09f-2f8a5c2f6c36"
   },
   "outputs": [],
   "source": [
    "dt_pred = decision_tree(X_train, y_train, X_test, y_test)"
   ]
  },
  {
   "cell_type": "code",
   "execution_count": null,
   "metadata": {
    "colab": {
     "base_uri": "https://localhost:8080/"
    },
    "executionInfo": {
     "elapsed": 1911,
     "status": "ok",
     "timestamp": 1686484266087,
     "user": {
      "displayName": "Amaia Pikatza Huerga",
      "userId": "01223455995351985189"
     },
     "user_tz": -120
    },
    "id": "8wf4M0zndvjN",
    "outputId": "a21fb05a-75b6-4b4a-a717-e286957d633b"
   },
   "outputs": [],
   "source": [
    "svm_pred = svm(X_train, y_train, X_test, y_test)"
   ]
  },
  {
   "cell_type": "code",
   "execution_count": null,
   "metadata": {
    "colab": {
     "base_uri": "https://localhost:8080/"
    },
    "executionInfo": {
     "elapsed": 24830,
     "status": "ok",
     "timestamp": 1686484290913,
     "user": {
      "displayName": "Amaia Pikatza Huerga",
      "userId": "01223455995351985189"
     },
     "user_tz": -120
    },
    "id": "wmQn6rEydvjO",
    "outputId": "e3dabc87-5d24-4315-b80c-bfbdf88f97d9"
   },
   "outputs": [],
   "source": [
    "nn_pred = neural_network(X_train, y_train, X_test, y_test)"
   ]
  },
  {
   "cell_type": "code",
   "execution_count": null,
   "metadata": {
    "colab": {
     "base_uri": "https://localhost:8080/"
    },
    "executionInfo": {
     "elapsed": 698,
     "status": "ok",
     "timestamp": 1686484291608,
     "user": {
      "displayName": "Amaia Pikatza Huerga",
      "userId": "01223455995351985189"
     },
     "user_tz": -120
    },
    "id": "BqSl3RtCdvjO",
    "outputId": "7296f350-0949-4b0a-a583-fcbabb465ccb"
   },
   "outputs": [],
   "source": [
    "knn_pred = k_neighbors(X_train, y_train, X_test, y_test)"
   ]
  },
  {
   "cell_type": "code",
   "execution_count": null,
   "metadata": {
    "colab": {
     "base_uri": "https://localhost:8080/"
    },
    "executionInfo": {
     "elapsed": 210646,
     "status": "ok",
     "timestamp": 1686484502252,
     "user": {
      "displayName": "Amaia Pikatza Huerga",
      "userId": "01223455995351985189"
     },
     "user_tz": -120
    },
    "id": "wMTHIL-jdvjP",
    "outputId": "cd31bc4b-88f6-47db-c248-ee51c3d2e60b"
   },
   "outputs": [],
   "source": [
    "rf_pred = random_forest(X_train, y_train, X_test, y_test)"
   ]
  },
  {
   "cell_type": "code",
   "execution_count": null,
   "metadata": {
    "colab": {
     "base_uri": "https://localhost:8080/"
    },
    "executionInfo": {
     "elapsed": 573215,
     "status": "ok",
     "timestamp": 1686485075437,
     "user": {
      "displayName": "Amaia Pikatza Huerga",
      "userId": "01223455995351985189"
     },
     "user_tz": -120
    },
    "id": "sXi9tEjEdvjP",
    "outputId": "050a085d-0629-4de9-d952-40d8432ae398"
   },
   "outputs": [],
   "source": [
    "gb_pred = gradient_boosting(X_train, y_train, X_test, y_test)"
   ]
  },
  {
   "cell_type": "code",
   "execution_count": null,
   "metadata": {
    "colab": {
     "base_uri": "https://localhost:8080/"
    },
    "executionInfo": {
     "elapsed": 32,
     "status": "ok",
     "timestamp": 1686485075438,
     "user": {
      "displayName": "Amaia Pikatza Huerga",
      "userId": "01223455995351985189"
     },
     "user_tz": -120
    },
    "id": "nBQCaytkdvjP",
    "outputId": "29eb9bbf-0039-45d1-8704-882718bf2363"
   },
   "outputs": [],
   "source": [
    "nb_pred, nb_resi = naive_bayes(X_train, y_train, X_test, y_test)"
   ]
  },
  {
   "cell_type": "code",
   "execution_count": null,
   "metadata": {
    "id": "b7yrXBv9dvjQ"
   },
   "outputs": [],
   "source": [
    "results.loc['RED5'] = [roc_auc_score(y_test, lr_pred), calculateSpecificity(y_test, lr_pred), recall_score(y_test, lr_pred), f1_score(y_test, lr_pred),\n",
    "                           roc_auc_score(y_test, dt_pred), calculateSpecificity(y_test, dt_pred), recall_score(y_test, dt_pred), f1_score(y_test, dt_pred),\n",
    "                           roc_auc_score(y_test, svm_pred), calculateSpecificity(y_test, svm_pred), recall_score(y_test, svm_pred), f1_score(y_test, svm_pred),\n",
    "                           roc_auc_score(y_test, nn_pred), calculateSpecificity(y_test, nn_pred), recall_score(y_test, nn_pred), f1_score(y_test, nn_pred),\n",
    "                           roc_auc_score(y_test, knn_pred), calculateSpecificity(y_test, knn_pred), recall_score(y_test, knn_pred), f1_score(y_test, knn_pred),\n",
    "                           roc_auc_score(y_test, rf_pred), calculateSpecificity(y_test, rf_pred), recall_score(y_test, rf_pred), f1_score(y_test, rf_pred),\n",
    "                           roc_auc_score(y_test, gb_pred), calculateSpecificity(y_test, gb_pred), recall_score(y_test, gb_pred), f1_score(y_test, gb_pred),\n",
    "                           roc_auc_score(y_test, nb_pred), calculateSpecificity(y_test, nb_pred), recall_score(y_test, nb_pred), f1_score(y_test, nb_pred)]"
   ]
  },
  {
   "cell_type": "markdown",
   "metadata": {
    "id": "n0XAczRNdvjQ"
   },
   "source": [
    "### Explainability"
   ]
  },
  {
   "cell_type": "code",
   "execution_count": null,
   "metadata": {
    "colab": {
     "base_uri": "https://localhost:8080/",
     "height": 1000
    },
    "executionInfo": {
     "elapsed": 792,
     "status": "ok",
     "timestamp": 1686485076204,
     "user": {
      "displayName": "Amaia Pikatza Huerga",
      "userId": "01223455995351985189"
     },
     "user_tz": -120
    },
    "id": "s8q9TtG1dvjR",
    "outputId": "e41bb677-9349-4e44-e2e4-f7f2f9591752"
   },
   "outputs": [],
   "source": [
    "calculateImportance(nb_resi, X_test, y_test)"
   ]
  },
  {
   "cell_type": "code",
   "execution_count": null,
   "metadata": {
    "id": "DHBrkUR-dvjR"
   },
   "outputs": [],
   "source": [
    "#calculateShapley(nb_resi, X_test, 0)"
   ]
  },
  {
   "cell_type": "markdown",
   "metadata": {
    "id": "p9ky8nysoDfL"
   },
   "source": [
    "## Clasificación con SEIGOODDOING"
   ]
  },
  {
   "cell_type": "code",
   "execution_count": null,
   "metadata": {
    "id": "svgtsTxdoDfZ"
   },
   "outputs": [],
   "source": [
    "df_train = pd.read_csv(train_path)\n",
    "df_test = pd.read_csv(test_path)\n",
    "\n",
    "X_train = df_train.drop(['labels'], axis=1).filter(regex='^SEIGOODDOING')\n",
    "y_train = df_train['labels']\n",
    "X_test = df_test.drop(['labels'], axis=1).filter(regex='^SEIGOODDOING')\n",
    "y_test = df_test['labels']"
   ]
  },
  {
   "cell_type": "code",
   "execution_count": null,
   "metadata": {
    "colab": {
     "base_uri": "https://localhost:8080/"
    },
    "executionInfo": {
     "elapsed": 20,
     "status": "ok",
     "timestamp": 1686485076210,
     "user": {
      "displayName": "Amaia Pikatza Huerga",
      "userId": "01223455995351985189"
     },
     "user_tz": -120
    },
    "id": "MhKalcsCXsU7",
    "outputId": "e7837340-9755-457d-9f4e-411db1ea5728"
   },
   "outputs": [],
   "source": [
    "lr_pred = logistic_regresion(X_train, y_train, X_test, y_test)"
   ]
  },
  {
   "cell_type": "code",
   "execution_count": null,
   "metadata": {
    "colab": {
     "base_uri": "https://localhost:8080/"
    },
    "executionInfo": {
     "elapsed": 519,
     "status": "ok",
     "timestamp": 1686485076714,
     "user": {
      "displayName": "Amaia Pikatza Huerga",
      "userId": "01223455995351985189"
     },
     "user_tz": -120
    },
    "id": "iub_-1xjN1rC",
    "outputId": "fabda840-446b-49ee-adaf-befe749077b2"
   },
   "outputs": [],
   "source": [
    "dt_pred = decision_tree(X_train, y_train, X_test, y_test)"
   ]
  },
  {
   "cell_type": "code",
   "execution_count": null,
   "metadata": {
    "colab": {
     "base_uri": "https://localhost:8080/"
    },
    "executionInfo": {
     "elapsed": 982,
     "status": "ok",
     "timestamp": 1686485077693,
     "user": {
      "displayName": "Amaia Pikatza Huerga",
      "userId": "01223455995351985189"
     },
     "user_tz": -120
    },
    "id": "36RGnQAGN1rE",
    "outputId": "ddc18cd9-2600-4b16-a0c1-d9c884764ae6"
   },
   "outputs": [],
   "source": [
    "svm_pred = svm(X_train, y_train, X_test, y_test)"
   ]
  },
  {
   "cell_type": "code",
   "execution_count": null,
   "metadata": {
    "colab": {
     "base_uri": "https://localhost:8080/"
    },
    "executionInfo": {
     "elapsed": 15646,
     "status": "ok",
     "timestamp": 1686485093336,
     "user": {
      "displayName": "Amaia Pikatza Huerga",
      "userId": "01223455995351985189"
     },
     "user_tz": -120
    },
    "id": "yrOm5m7vN1rF",
    "outputId": "57c9b004-573a-499b-da09-04378f771490"
   },
   "outputs": [],
   "source": [
    "nn_pred = neural_network(X_train, y_train, X_test, y_test)"
   ]
  },
  {
   "cell_type": "code",
   "execution_count": null,
   "metadata": {
    "colab": {
     "base_uri": "https://localhost:8080/"
    },
    "executionInfo": {
     "elapsed": 474,
     "status": "ok",
     "timestamp": 1686485093782,
     "user": {
      "displayName": "Amaia Pikatza Huerga",
      "userId": "01223455995351985189"
     },
     "user_tz": -120
    },
    "id": "R09jRlNQN1rG",
    "outputId": "64deca16-3dc8-4105-ce02-45893bdebace"
   },
   "outputs": [],
   "source": [
    "knn_pred = k_neighbors(X_train, y_train, X_test, y_test)"
   ]
  },
  {
   "cell_type": "code",
   "execution_count": null,
   "metadata": {
    "colab": {
     "base_uri": "https://localhost:8080/"
    },
    "executionInfo": {
     "elapsed": 215193,
     "status": "ok",
     "timestamp": 1686485308972,
     "user": {
      "displayName": "Amaia Pikatza Huerga",
      "userId": "01223455995351985189"
     },
     "user_tz": -120
    },
    "id": "qNS0bf8sN1rH",
    "outputId": "986b7787-d272-4b8d-d7dc-9649af43dddc"
   },
   "outputs": [],
   "source": [
    "rf_pred = random_forest(X_train, y_train, X_test, y_test)"
   ]
  },
  {
   "cell_type": "code",
   "execution_count": null,
   "metadata": {
    "colab": {
     "background_save": true,
     "base_uri": "https://localhost:8080/"
    },
    "executionInfo": {
     "elapsed": 42124,
     "status": "ok",
     "timestamp": 1686485845912,
     "user": {
      "displayName": "Amaia Pikatza Huerga",
      "userId": "01223455995351985189"
     },
     "user_tz": -120
    },
    "id": "jBmECO16N1rH",
    "outputId": "3df0ef53-7f0f-4f32-8648-6078fe1adf62"
   },
   "outputs": [],
   "source": [
    "gb_pred = gradient_boosting(X_train, y_train, X_test, y_test)"
   ]
  },
  {
   "cell_type": "code",
   "execution_count": null,
   "metadata": {
    "colab": {
     "background_save": true,
     "base_uri": "https://localhost:8080/"
    },
    "executionInfo": {
     "elapsed": 0,
     "status": "ok",
     "timestamp": 1686485845923,
     "user": {
      "displayName": "Amaia Pikatza Huerga",
      "userId": "01223455995351985189"
     },
     "user_tz": -120
    },
    "id": "uvuwfJQ8N1rJ",
    "outputId": "518fa103-091a-43f5-f705-81b72d02af3b"
   },
   "outputs": [],
   "source": [
    "nb_pred, nb_sei = naive_bayes(X_train, y_train, X_test, y_test)"
   ]
  },
  {
   "cell_type": "code",
   "execution_count": null,
   "metadata": {
    "colab": {
     "background_save": true
    },
    "id": "apWMu4HkoDfe"
   },
   "outputs": [],
   "source": [
    "results.loc['SEIGOODDOING'] = [roc_auc_score(y_test, lr_pred), calculateSpecificity(y_test, lr_pred), recall_score(y_test, lr_pred), f1_score(y_test, lr_pred),\n",
    "                           roc_auc_score(y_test, dt_pred), calculateSpecificity(y_test, dt_pred), recall_score(y_test, dt_pred), f1_score(y_test, dt_pred),\n",
    "                           roc_auc_score(y_test, svm_pred), calculateSpecificity(y_test, svm_pred), recall_score(y_test, svm_pred), f1_score(y_test, svm_pred),\n",
    "                           roc_auc_score(y_test, nn_pred), calculateSpecificity(y_test, nn_pred), recall_score(y_test, nn_pred), f1_score(y_test, nn_pred),\n",
    "                           roc_auc_score(y_test, knn_pred), calculateSpecificity(y_test, knn_pred), recall_score(y_test, knn_pred), f1_score(y_test, knn_pred),\n",
    "                           roc_auc_score(y_test, rf_pred), calculateSpecificity(y_test, rf_pred), recall_score(y_test, rf_pred), f1_score(y_test, rf_pred),\n",
    "                           roc_auc_score(y_test, gb_pred), calculateSpecificity(y_test, gb_pred), recall_score(y_test, gb_pred), f1_score(y_test, gb_pred),\n",
    "                           roc_auc_score(y_test, nb_pred), calculateSpecificity(y_test, nb_pred), recall_score(y_test, nb_pred), f1_score(y_test, nb_pred)]"
   ]
  },
  {
   "cell_type": "markdown",
   "metadata": {
    "id": "E4tCE1oSQuq4"
   },
   "source": [
    "### Explainability"
   ]
  },
  {
   "cell_type": "code",
   "execution_count": null,
   "metadata": {
    "colab": {
     "background_save": true,
     "base_uri": "https://localhost:8080/",
     "height": 1000
    },
    "executionInfo": {
     "elapsed": 695,
     "status": "ok",
     "timestamp": 1686485846606,
     "user": {
      "displayName": "Amaia Pikatza Huerga",
      "userId": "01223455995351985189"
     },
     "user_tz": -120
    },
    "id": "FpSIC562QurD",
    "outputId": "5487a629-ecf3-454b-91b6-2e8e2435dcb3"
   },
   "outputs": [],
   "source": [
    "calculateImportance(nb_sei, X_test, y_test)"
   ]
  },
  {
   "cell_type": "code",
   "execution_count": null,
   "metadata": {
    "colab": {
     "background_save": true
    },
    "id": "rGEs3hI1H_Ma"
   },
   "outputs": [],
   "source": [
    "#calculateShapley(nb_sei, X_test, 0)"
   ]
  },
  {
   "cell_type": "markdown",
   "metadata": {
    "id": "8hBzn6vXoWD8"
   },
   "source": [
    "## Clasificación con RESI_ULT"
   ]
  },
  {
   "cell_type": "code",
   "execution_count": null,
   "metadata": {
    "colab": {
     "background_save": true
    },
    "id": "Tq9zhU4GoWEH"
   },
   "outputs": [],
   "source": [
    "df_train = pd.read_csv(train_path)\n",
    "df_test = pd.read_csv(test_path)\n",
    "\n",
    "X_train = df_train.drop(['labels'], axis=1).filter(regex='^RESI_')\n",
    "y_train = df_train['labels']\n",
    "X_test = df_test.drop(['labels'], axis=1).filter(regex='^RESI_')\n",
    "y_test = df_test['labels']"
   ]
  },
  {
   "cell_type": "code",
   "execution_count": null,
   "metadata": {
    "colab": {
     "background_save": true,
     "base_uri": "https://localhost:8080/"
    },
    "executionInfo": {
     "elapsed": 437,
     "status": "ok",
     "timestamp": 1686485847043,
     "user": {
      "displayName": "Amaia Pikatza Huerga",
      "userId": "01223455995351985189"
     },
     "user_tz": -120
    },
    "id": "GbVE8neCYBSw",
    "outputId": "5ebbdd60-bed8-4dc5-ec65-41dfe4873c5e"
   },
   "outputs": [],
   "source": [
    "lr_pred = logistic_regresion(X_train, y_train, X_test, y_test)"
   ]
  },
  {
   "cell_type": "code",
   "execution_count": null,
   "metadata": {
    "colab": {
     "background_save": true,
     "base_uri": "https://localhost:8080/"
    },
    "executionInfo": {
     "elapsed": 401,
     "status": "ok",
     "timestamp": 1686485847444,
     "user": {
      "displayName": "Amaia Pikatza Huerga",
      "userId": "01223455995351985189"
     },
     "user_tz": -120
    },
    "id": "pgSBbcpwN5ma",
    "outputId": "5c771945-7c59-4705-a044-3aee76c470cd"
   },
   "outputs": [],
   "source": [
    "dt_pred = decision_tree(X_train, y_train, X_test, y_test)"
   ]
  },
  {
   "cell_type": "code",
   "execution_count": null,
   "metadata": {
    "colab": {
     "background_save": true,
     "base_uri": "https://localhost:8080/"
    },
    "executionInfo": {
     "elapsed": 1393,
     "status": "ok",
     "timestamp": 1686485848837,
     "user": {
      "displayName": "Amaia Pikatza Huerga",
      "userId": "01223455995351985189"
     },
     "user_tz": -120
    },
    "id": "k4PvRNPsN5mb",
    "outputId": "2ac202e7-eadf-49a9-f6da-ee4c2a5ef971"
   },
   "outputs": [],
   "source": [
    "svm_pred = svm(X_train, y_train, X_test, y_test)"
   ]
  },
  {
   "cell_type": "code",
   "execution_count": null,
   "metadata": {
    "colab": {
     "background_save": true
    },
    "id": "An5X8CgON5mb",
    "outputId": "9c1589e0-a2ae-4214-8c27-f17cad876e7f"
   },
   "outputs": [],
   "source": [
    "nn_pred = neural_network(X_train, y_train, X_test, y_test)"
   ]
  },
  {
   "cell_type": "code",
   "execution_count": null,
   "metadata": {
    "colab": {
     "background_save": true
    },
    "id": "c6kfOjOyN5mb",
    "outputId": "22b1fcbd-0c30-42c2-e847-b595dcad5490"
   },
   "outputs": [],
   "source": [
    "knn_pred = k_neighbors(X_train, y_train, X_test, y_test)"
   ]
  },
  {
   "cell_type": "code",
   "execution_count": null,
   "metadata": {
    "colab": {
     "background_save": true
    },
    "id": "UbyQWZeGN5mb",
    "outputId": "ee0926f9-1375-4026-d594-84a1be05ca0b"
   },
   "outputs": [],
   "source": [
    "rf_pred = random_forest(X_train, y_train, X_test, y_test)"
   ]
  },
  {
   "cell_type": "code",
   "execution_count": null,
   "metadata": {
    "colab": {
     "background_save": true
    },
    "id": "pTGkV06zN5mb",
    "outputId": "6374f0fc-e085-4d3b-b470-21d5b04f028d"
   },
   "outputs": [],
   "source": [
    "gb_pred = gradient_boosting(X_train, y_train, X_test, y_test)"
   ]
  },
  {
   "cell_type": "code",
   "execution_count": null,
   "metadata": {
    "colab": {
     "background_save": true
    },
    "id": "oOiu1aaUN5mc",
    "outputId": "eacb6839-6286-4587-b0ea-55c7d407e815"
   },
   "outputs": [],
   "source": [
    "nb_pred, nb_resi_ult = naive_bayes(X_train, y_train, X_test, y_test)"
   ]
  },
  {
   "cell_type": "code",
   "execution_count": null,
   "metadata": {
    "colab": {
     "background_save": true
    },
    "id": "XVLol9yPoWEK"
   },
   "outputs": [],
   "source": [
    "results.loc['RESI_ULT'] = [roc_auc_score(y_test, lr_pred), calculateSpecificity(y_test, lr_pred), recall_score(y_test, lr_pred), f1_score(y_test, lr_pred),\n",
    "                           roc_auc_score(y_test, dt_pred), calculateSpecificity(y_test, dt_pred), recall_score(y_test, dt_pred), f1_score(y_test, dt_pred),\n",
    "                           roc_auc_score(y_test, svm_pred), calculateSpecificity(y_test, svm_pred), recall_score(y_test, svm_pred), f1_score(y_test, svm_pred),\n",
    "                           roc_auc_score(y_test, nn_pred), calculateSpecificity(y_test, nn_pred), recall_score(y_test, nn_pred), f1_score(y_test, nn_pred),\n",
    "                           roc_auc_score(y_test, knn_pred), calculateSpecificity(y_test, knn_pred), recall_score(y_test, knn_pred), f1_score(y_test, knn_pred),\n",
    "                           roc_auc_score(y_test, rf_pred), calculateSpecificity(y_test, rf_pred), recall_score(y_test, rf_pred), f1_score(y_test, rf_pred),\n",
    "                           roc_auc_score(y_test, gb_pred), calculateSpecificity(y_test, gb_pred), recall_score(y_test, gb_pred), f1_score(y_test, gb_pred),\n",
    "                           roc_auc_score(y_test, nb_pred), calculateSpecificity(y_test, nb_pred), recall_score(y_test, nb_pred), f1_score(y_test, nb_pred)]"
   ]
  },
  {
   "cell_type": "markdown",
   "metadata": {
    "id": "63AfLzX4MzhZ"
   },
   "source": [
    "### Explainability"
   ]
  },
  {
   "cell_type": "code",
   "execution_count": null,
   "metadata": {
    "colab": {
     "background_save": true
    },
    "id": "Me2QAtzrPR4K",
    "outputId": "c1f1fbfa-54ca-4fe9-e433-59390a5a7e71"
   },
   "outputs": [],
   "source": [
    "calculateImportance(nb_resi_ult, X_test, y_test)"
   ]
  },
  {
   "cell_type": "code",
   "execution_count": null,
   "metadata": {
    "id": "vgShpviCIBRz"
   },
   "outputs": [],
   "source": [
    "#calculateShapley(nb_resi_ult, X_test, 0)"
   ]
  },
  {
   "cell_type": "markdown",
   "metadata": {
    "id": "96t0qDcjAS_G"
   },
   "source": [
    "## Visualización y guardado"
   ]
  },
  {
   "cell_type": "code",
   "execution_count": null,
   "metadata": {
    "colab": {
     "background_save": true
    },
    "id": "tb43gHMWAWEh",
    "outputId": "a5aded12-e7e7-4996-934f-cfc88c2c7ace"
   },
   "outputs": [],
   "source": [
    "results"
   ]
  },
  {
   "cell_type": "code",
   "execution_count": null,
   "metadata": {
    "id": "a0zVrhar-BrG"
   },
   "outputs": [],
   "source": [
    "results.to_excel('resultados/resultadosEAT.xlsx', index=True)\n",
    "# v4 sin smote\n",
    "# v5 smote en todo el dataset\n",
    "# v6 smote solo en train\n",
    "# v7 con RED5"
   ]
  }
 ],
 "metadata": {
  "colab": {
   "collapsed_sections": [
    "1C8sGOfqyYD-",
    "AKIqES35ycwA",
    "_GjfLsFqB8Jt",
    "YeakkSiACPsp",
    "2981N1wHCPs0",
    "bKsE5ErOCPs6",
    "eymYMftLxRrc",
    "KXMWxYrV7Tfu",
    "ZizcheImkUVI",
    "Zv4Ww-NhldWI",
    "8ZPjU4UcmD6p",
    "p9ky8nysoDfL"
   ],
   "provenance": [],
   "toc_visible": true
  },
  "gpuClass": "standard",
  "kernelspec": {
   "display_name": "venv",
   "language": "python",
   "name": "python3"
  },
  "language_info": {
   "codemirror_mode": {
    "name": "ipython",
    "version": 3
   },
   "file_extension": ".py",
   "mimetype": "text/x-python",
   "name": "python",
   "nbconvert_exporter": "python",
   "pygments_lexer": "ipython3",
   "version": "3.12.7"
  }
 },
 "nbformat": 4,
 "nbformat_minor": 0
}
